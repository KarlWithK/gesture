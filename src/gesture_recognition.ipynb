{
 "metadata": {
  "language_info": {
   "codemirror_mode": {
    "name": "ipython",
    "version": 3
   },
   "file_extension": ".py",
   "mimetype": "text/x-python",
   "name": "python",
   "nbconvert_exporter": "python",
   "pygments_lexer": "ipython3",
   "version": "3.8.8"
  },
  "orig_nbformat": 2,
  "kernelspec": {
   "name": "python388jvsc74a57bd02db524e06e9f5f4ffedc911c917cb75e12dbc923643829bf417064a77eb14d37",
   "display_name": "Python 3.8.8 64-bit"
  }
 },
 "nbformat": 4,
 "nbformat_minor": 2,
 "cells": [
  {
   "source": [
    "import tensorflow as tf\n",
    "physical_devices = tf.config.list_physical_devices('GPU') \n",
    "tf.config.experimental.set_memory_growth(physical_devices[0], True)\n",
    "from tensorflow import keras\n",
    "import h5py\n",
    "import numpy as np\n",
    "from sklearn.model_selection import train_test_split\n",
    "\n",
    "from tensorflow.keras import layers\n",
    "\n",
    "from datagen import DataGenerator"
   ],
   "cell_type": "code",
   "metadata": {},
   "execution_count": 3,
   "outputs": []
  },
  {
   "cell_type": "code",
   "execution_count": 4,
   "metadata": {},
   "outputs": [
    {
     "output_type": "stream",
     "name": "stdout",
     "text": [
      "A: [[[ 3.16374004e-01  3.51073503e-01 -1.41977393e-04]\n  [ 2.54676700e-01  3.39414895e-01 -9.63216976e-02]\n  [ 2.18510449e-01  2.61363447e-01 -1.29139099e-01]\n  ...\n  [ 3.03846955e-01  8.27390552e-02  5.28673499e-02]\n  [ 3.01035404e-01  4.12825346e-02  4.96314845e-02]\n  [ 2.96733379e-01  1.37305260e-03  4.54961366e-02]]\n\n [[ 1.46659613e-02  3.93791080e-01 -7.58155384e-05]\n  [-7.40879774e-02  3.67804050e-01 -3.65879156e-02]\n  [-1.33595705e-01  2.83198595e-01 -5.71323664e-02]\n  ...\n  [ 4.25117612e-02  9.64299440e-02 -8.56183649e-02]\n  [ 4.19123769e-02  4.74910140e-02 -1.08550812e-01]\n  [ 3.89934182e-02 -7.29441643e-04 -1.27618510e-01]]\n\n [[ 1.54061317e-02  3.96268547e-01 -6.57246073e-05]\n  [-7.36961961e-02  3.70012164e-01 -3.31853063e-02]\n  [-1.32648468e-01  2.84559488e-01 -5.18045009e-02]\n  ...\n  [ 4.66657877e-02  1.01710618e-01 -8.67992521e-02]\n  [ 4.61905003e-02  5.14893532e-02 -1.11019749e-01]\n  [ 4.33127284e-02  2.22086906e-03 -1.30594525e-01]]\n\n ...\n\n [[ 2.95482278e-01  3.64222527e-01 -1.41115104e-04]\n  [ 2.37947047e-01  3.49820495e-01 -9.58926857e-02]\n  [ 2.02606082e-01  2.59553075e-01 -1.21942106e-01]\n  ...\n  [ 2.71901429e-01  8.50824118e-02  6.48645057e-02]\n  [ 2.65893340e-01  5.03048897e-02  6.06926202e-02]\n  [ 2.61402547e-01  1.78506374e-02  5.57169213e-02]]\n\n [[ 3.22331071e-01  3.60508561e-01 -1.17394595e-04]\n  [ 2.53650129e-01  3.40017080e-01 -9.64035720e-02]\n  [ 2.13398457e-01  2.57231891e-01 -1.25712428e-01]\n  ...\n  [ 2.91154087e-01  7.56112337e-02  5.64060702e-02]\n  [ 2.79879093e-01  4.25182581e-02  5.91244481e-02]\n  [ 2.69667566e-01  1.47988796e-02  6.21238209e-02]]\n\n [[ 3.22963238e-01  3.54526341e-01 -1.28707312e-04]\n  [ 2.55907655e-01  3.38921010e-01 -9.18010578e-02]\n  [ 2.15122759e-01  2.56847441e-01 -1.20949256e-01]\n  ...\n  [ 3.10461819e-01  8.09704661e-02  4.55521203e-02]\n  [ 3.03175092e-01  4.07564640e-02  3.94744433e-02]\n  [ 2.93055534e-01  2.24089622e-03  3.42377133e-02]]]\nB: [[[ 3.16374004e-01  3.51073503e-01 -1.41977393e-04]\n  [ 2.54676700e-01  3.39414895e-01 -9.63216976e-02]\n  [ 2.18510449e-01  2.61363447e-01 -1.29139099e-01]\n  ...\n  [ 3.03846955e-01  8.27390552e-02  5.28673499e-02]\n  [ 3.01035404e-01  4.12825346e-02  4.96314845e-02]\n  [ 2.96733379e-01  1.37305260e-03  4.54961366e-02]]\n\n [[ 1.46659613e-02  3.93791080e-01 -7.58155384e-05]\n  [-7.40879774e-02  3.67804050e-01 -3.65879156e-02]\n  [-1.33595705e-01  2.83198595e-01 -5.71323664e-02]\n  ...\n  [ 4.25117612e-02  9.64299440e-02 -8.56183649e-02]\n  [ 4.19123769e-02  4.74910140e-02 -1.08550812e-01]\n  [ 3.89934182e-02 -7.29441643e-04 -1.27618510e-01]]\n\n [[ 1.54061317e-02  3.96268547e-01 -6.57246073e-05]\n  [-7.36961961e-02  3.70012164e-01 -3.31853063e-02]\n  [-1.32648468e-01  2.84559488e-01 -5.18045009e-02]\n  ...\n  [ 4.66657877e-02  1.01710618e-01 -8.67992521e-02]\n  [ 4.61905003e-02  5.14893532e-02 -1.11019749e-01]\n  [ 4.33127284e-02  2.22086906e-03 -1.30594525e-01]]\n\n ...\n\n [[ 2.95482278e-01  3.64222527e-01 -1.41115104e-04]\n  [ 2.37947047e-01  3.49820495e-01 -9.58926857e-02]\n  [ 2.02606082e-01  2.59553075e-01 -1.21942106e-01]\n  ...\n  [ 2.71901429e-01  8.50824118e-02  6.48645057e-02]\n  [ 2.65893340e-01  5.03048897e-02  6.06926202e-02]\n  [ 2.61402547e-01  1.78506374e-02  5.57169213e-02]]\n\n [[ 3.22331071e-01  3.60508561e-01 -1.17394595e-04]\n  [ 2.53650129e-01  3.40017080e-01 -9.64035720e-02]\n  [ 2.13398457e-01  2.57231891e-01 -1.25712428e-01]\n  ...\n  [ 2.91154087e-01  7.56112337e-02  5.64060702e-02]\n  [ 2.79879093e-01  4.25182581e-02  5.91244481e-02]\n  [ 2.69667566e-01  1.47988796e-02  6.21238209e-02]]\n\n [[ 3.22963238e-01  3.54526341e-01 -1.28707312e-04]\n  [ 2.55907655e-01  3.38921010e-01 -9.18010578e-02]\n  [ 2.15122759e-01  2.56847441e-01 -1.20949256e-01]\n  ...\n  [ 3.10461819e-01  8.09704661e-02  4.55521203e-02]\n  [ 3.03175092e-01  4.07564640e-02  3.94744433e-02]\n  [ 2.93055534e-01  2.24089622e-03  3.42377133e-02]]]\nC: [[[ 3.22963238e-01  3.54526341e-01 -1.28707312e-04]\n  [ 2.55907655e-01  3.38921010e-01 -9.18010578e-02]\n  [ 2.15122759e-01  2.56847441e-01 -1.20949256e-01]\n  ...\n  [ 3.10461819e-01  8.09704661e-02  4.55521203e-02]\n  [ 3.03175092e-01  4.07564640e-02  3.94744433e-02]\n  [ 2.93055534e-01  2.24089622e-03  3.42377133e-02]]\n\n [[ 3.22331071e-01  3.60508561e-01 -1.17394595e-04]\n  [ 2.53650129e-01  3.40017080e-01 -9.64035720e-02]\n  [ 2.13398457e-01  2.57231891e-01 -1.25712428e-01]\n  ...\n  [ 2.91154087e-01  7.56112337e-02  5.64060702e-02]\n  [ 2.79879093e-01  4.25182581e-02  5.91244481e-02]\n  [ 2.69667566e-01  1.47988796e-02  6.21238209e-02]]\n\n [[ 2.95482278e-01  3.64222527e-01 -1.41115104e-04]\n  [ 2.37947047e-01  3.49820495e-01 -9.58926857e-02]\n  [ 2.02606082e-01  2.59553075e-01 -1.21942106e-01]\n  ...\n  [ 2.71901429e-01  8.50824118e-02  6.48645057e-02]\n  [ 2.65893340e-01  5.03048897e-02  6.06926202e-02]\n  [ 2.61402547e-01  1.78506374e-02  5.57169213e-02]]\n\n ...\n\n [[ 1.54061317e-02  3.96268547e-01 -6.57246073e-05]\n  [-7.36961961e-02  3.70012164e-01 -3.31853063e-02]\n  [-1.32648468e-01  2.84559488e-01 -5.18045009e-02]\n  ...\n  [ 4.66657877e-02  1.01710618e-01 -8.67992521e-02]\n  [ 4.61905003e-02  5.14893532e-02 -1.11019749e-01]\n  [ 4.33127284e-02  2.22086906e-03 -1.30594525e-01]]\n\n [[ 1.46659613e-02  3.93791080e-01 -7.58155384e-05]\n  [-7.40879774e-02  3.67804050e-01 -3.65879156e-02]\n  [-1.33595705e-01  2.83198595e-01 -5.71323664e-02]\n  ...\n  [ 4.25117612e-02  9.64299440e-02 -8.56183649e-02]\n  [ 4.19123769e-02  4.74910140e-02 -1.08550812e-01]\n  [ 3.89934182e-02 -7.29441643e-04 -1.27618510e-01]]\n\n [[ 3.16374004e-01  3.51073503e-01 -1.41977393e-04]\n  [ 2.54676700e-01  3.39414895e-01 -9.63216976e-02]\n  [ 2.18510449e-01  2.61363447e-01 -1.29139099e-01]\n  ...\n  [ 3.03846955e-01  8.27390552e-02  5.28673499e-02]\n  [ 3.01035404e-01  4.12825346e-02  4.96314845e-02]\n  [ 2.96733379e-01  1.37305260e-03  4.54961366e-02]]]\n"
     ]
    }
   ],
   "source": [
    "batch_size=32\n",
    "epochs=50\n",
    "input_shape = (20,21,3)\n",
    "classes = 4\n",
    "train_gen = DataGenerator('dynamic_gestures2.hdf5')"
   ]
  },
  {
   "cell_type": "code",
   "execution_count": 7,
   "metadata": {},
   "outputs": [
    {
     "output_type": "stream",
     "name": "stdout",
     "text": [
      "Model: \"model_1\"\n_________________________________________________________________\nLayer (type)                 Output Shape              Param #   \n=================================================================\ninput_2 (InputLayer)         [(None, 20, 21, 3)]       0         \n_________________________________________________________________\ntime_distributed_4 (TimeDist (None, 20, 63)            0         \n_________________________________________________________________\ntime_distributed_5 (TimeDist (None, 20, 64)            4096      \n_________________________________________________________________\ntime_distributed_6 (TimeDist (None, 20, 64)            0         \n_________________________________________________________________\ntime_distributed_7 (TimeDist (None, 20, 64)            4160      \n_________________________________________________________________\ntime_distributed_8 (TimeDist (None, 20, 64)            0         \n_________________________________________________________________\ntime_distributed_9 (TimeDist (None, 20, 64)            4160      \n_________________________________________________________________\ntime_distributed_10 (TimeDis (None, 20, 64)            0         \n_________________________________________________________________\ngru_1 (GRU)                  (None, 32)                9408      \n_________________________________________________________________\nOutput (Dense)               (None, 4)                 132       \n=================================================================\nTotal params: 21,956\nTrainable params: 21,956\nNon-trainable params: 0\n_________________________________________________________________\n"
     ]
    }
   ],
   "source": [
    "inputs = layers.Input(shape=input_shape)\n",
    "x = inputs\n",
    "x = layers.TimeDistributed(layers.Flatten())(x)\n",
    "x = layers.TimeDistributed(layers.Dropout(0.5))(x)\n",
    "x = layers.TimeDistributed(layers.Dense(64, activation='relu'))(x)\n",
    "x = layers.TimeDistributed(layers.Dropout(0.2))(x)\n",
    "x = layers.TimeDistributed(layers.Dense(64, activation='relu'))(x)\n",
    "x = layers.TimeDistributed(layers.Dropout(0.2))(x)\n",
    "x = layers.TimeDistributed(layers.Dense(64, activation='relu'))(x)\n",
    "x = layers.TimeDistributed(layers.Dropout(0.2))(x)\n",
    "x = layers.GRU(32)(x)\n",
    "output = layers.Dense(classes, activation='softmax',name='Output')(x)\n",
    "model = keras.models.Model(inputs, output)\n",
    "model.compile(optimizer='adam',\n",
    "              loss=tf.keras.losses.CategoricalCrossentropy(),\n",
    "              metrics=['accuracy'])\n",
    "model.summary()\n"
   ]
  },
  {
   "cell_type": "code",
   "execution_count": 6,
   "metadata": {},
   "outputs": [
    {
     "output_type": "stream",
     "name": "stderr",
     "text": [
      "C:\\Python38\\lib\\site-packages\\tensorflow\\python\\keras\\engine\\training.py:1844: UserWarning: `Model.fit_generator` is deprecated and will be removed in a future version. Please use `Model.fit`, which supports generators.\n",
      "  warnings.warn('`Model.fit_generator` is deprecated and '\n",
      "Epoch 1/50\n",
      "69/69 [==============================] - 4s 6ms/step - loss: 1.0851 - accuracy: 0.5964\n",
      "Epoch 2/50\n",
      "69/69 [==============================] - 0s 6ms/step - loss: 0.1248 - accuracy: 0.9725\n",
      "Epoch 3/50\n",
      "69/69 [==============================] - 0s 6ms/step - loss: 0.0407 - accuracy: 0.9911\n",
      "Epoch 4/50\n",
      "69/69 [==============================] - 0s 6ms/step - loss: 0.0222 - accuracy: 0.9964\n",
      "Epoch 5/50\n",
      "69/69 [==============================] - 0s 6ms/step - loss: 0.0144 - accuracy: 0.9979\n",
      "Epoch 6/50\n",
      "69/69 [==============================] - 0s 7ms/step - loss: 0.0090 - accuracy: 0.9984\n",
      "Epoch 7/50\n",
      "69/69 [==============================] - 0s 7ms/step - loss: 0.0142 - accuracy: 0.9960\n",
      "Epoch 8/50\n",
      "69/69 [==============================] - 0s 6ms/step - loss: 0.0061 - accuracy: 0.9997\n",
      "Epoch 9/50\n",
      "69/69 [==============================] - 0s 6ms/step - loss: 0.0049 - accuracy: 0.9991\n",
      "Epoch 10/50\n",
      "69/69 [==============================] - 0s 6ms/step - loss: 0.0027 - accuracy: 1.0000\n",
      "Epoch 11/50\n",
      "69/69 [==============================] - 0s 6ms/step - loss: 0.0023 - accuracy: 1.0000\n",
      "Epoch 12/50\n",
      "69/69 [==============================] - 0s 6ms/step - loss: 0.0015 - accuracy: 1.0000\n",
      "Epoch 13/50\n",
      "69/69 [==============================] - 0s 6ms/step - loss: 0.0014 - accuracy: 1.0000\n",
      "Epoch 14/50\n",
      "69/69 [==============================] - 0s 6ms/step - loss: 0.0011 - accuracy: 1.0000\n",
      "Epoch 15/50\n",
      "69/69 [==============================] - 0s 6ms/step - loss: 0.0010 - accuracy: 1.0000\n",
      "Epoch 16/50\n",
      "69/69 [==============================] - 0s 6ms/step - loss: 8.3132e-04 - accuracy: 1.0000\n",
      "Epoch 17/50\n",
      "69/69 [==============================] - 0s 7ms/step - loss: 7.7031e-04 - accuracy: 1.0000\n",
      "Epoch 18/50\n",
      "69/69 [==============================] - 0s 6ms/step - loss: 7.3435e-04 - accuracy: 1.0000\n",
      "Epoch 19/50\n",
      "69/69 [==============================] - 0s 6ms/step - loss: 6.3313e-04 - accuracy: 1.0000\n",
      "Epoch 20/50\n",
      "69/69 [==============================] - 0s 6ms/step - loss: 5.0641e-04 - accuracy: 1.0000\n",
      "Epoch 21/50\n",
      "69/69 [==============================] - 0s 6ms/step - loss: 5.3773e-04 - accuracy: 1.0000\n",
      "Epoch 22/50\n",
      "69/69 [==============================] - 0s 6ms/step - loss: 4.5443e-04 - accuracy: 1.0000\n",
      "Epoch 23/50\n",
      "69/69 [==============================] - 0s 6ms/step - loss: 3.9440e-04 - accuracy: 1.0000\n",
      "Epoch 24/50\n",
      "69/69 [==============================] - 0s 6ms/step - loss: 3.5303e-04 - accuracy: 1.0000\n",
      "Epoch 25/50\n",
      "69/69 [==============================] - 0s 6ms/step - loss: 3.6424e-04 - accuracy: 1.0000\n",
      "Epoch 26/50\n",
      "69/69 [==============================] - 0s 6ms/step - loss: 3.1462e-04 - accuracy: 1.0000\n",
      "Epoch 27/50\n",
      "69/69 [==============================] - 0s 6ms/step - loss: 2.9587e-04 - accuracy: 1.0000\n",
      "Epoch 28/50\n",
      "69/69 [==============================] - 0s 7ms/step - loss: 2.6780e-04 - accuracy: 1.0000\n",
      "Epoch 29/50\n",
      "69/69 [==============================] - 0s 6ms/step - loss: 2.3288e-04 - accuracy: 1.0000\n",
      "Epoch 30/50\n",
      "69/69 [==============================] - 0s 6ms/step - loss: 2.3943e-04 - accuracy: 1.0000\n",
      "Epoch 31/50\n",
      "69/69 [==============================] - 0s 6ms/step - loss: 2.3994e-04 - accuracy: 1.0000\n",
      "Epoch 32/50\n",
      "69/69 [==============================] - 0s 6ms/step - loss: 2.0245e-04 - accuracy: 1.0000\n",
      "Epoch 33/50\n",
      "69/69 [==============================] - 0s 6ms/step - loss: 1.7728e-04 - accuracy: 1.0000\n",
      "Epoch 34/50\n",
      "69/69 [==============================] - 0s 6ms/step - loss: 1.7133e-04 - accuracy: 1.0000\n",
      "Epoch 35/50\n",
      "69/69 [==============================] - 0s 6ms/step - loss: 1.7399e-04 - accuracy: 1.0000\n",
      "Epoch 36/50\n",
      "69/69 [==============================] - 0s 6ms/step - loss: 1.4795e-04 - accuracy: 1.0000\n",
      "Epoch 37/50\n",
      "69/69 [==============================] - 0s 6ms/step - loss: 1.4038e-04 - accuracy: 1.0000\n",
      "Epoch 38/50\n",
      "69/69 [==============================] - 0s 6ms/step - loss: 1.4277e-04 - accuracy: 1.0000\n",
      "Epoch 39/50\n",
      "69/69 [==============================] - 0s 6ms/step - loss: 1.3230e-04 - accuracy: 1.0000\n",
      "Epoch 40/50\n",
      "69/69 [==============================] - 0s 6ms/step - loss: 1.1250e-04 - accuracy: 1.0000\n",
      "Epoch 41/50\n",
      "69/69 [==============================] - 0s 6ms/step - loss: 1.1578e-04 - accuracy: 1.0000\n",
      "Epoch 42/50\n",
      "69/69 [==============================] - 0s 7ms/step - loss: 1.1197e-04 - accuracy: 1.0000\n",
      "Epoch 43/50\n",
      "69/69 [==============================] - 0s 7ms/step - loss: 1.0431e-04 - accuracy: 1.0000\n",
      "Epoch 44/50\n",
      "69/69 [==============================] - 0s 7ms/step - loss: 9.6412e-05 - accuracy: 1.0000\n",
      "Epoch 45/50\n",
      "69/69 [==============================] - 0s 6ms/step - loss: 9.8569e-05 - accuracy: 1.0000\n",
      "Epoch 46/50\n",
      "69/69 [==============================] - 0s 6ms/step - loss: 9.0147e-05 - accuracy: 1.0000\n",
      "Epoch 47/50\n",
      "69/69 [==============================] - 1s 8ms/step - loss: 8.3562e-05 - accuracy: 1.0000\n",
      "Epoch 48/50\n",
      "69/69 [==============================] - 0s 7ms/step - loss: 7.8551e-05 - accuracy: 1.0000\n",
      "Epoch 49/50\n",
      "69/69 [==============================] - 0s 6ms/step - loss: 7.8372e-05 - accuracy: 1.0000\n",
      "Epoch 50/50\n",
      "69/69 [==============================] - 0s 6ms/step - loss: 7.7941e-05 - accuracy: 1.0000\n"
     ]
    },
    {
     "output_type": "execute_result",
     "data": {
      "text/plain": [
       "<tensorflow.python.keras.callbacks.History at 0x20b9b8e97c0>"
      ]
     },
     "metadata": {},
     "execution_count": 6
    }
   ],
   "source": [
    "model.fit_generator(generator=train_gen,epochs=epochs)"
   ]
  },
  {
   "cell_type": "code",
   "execution_count": 23,
   "metadata": {},
   "outputs": [
    {
     "output_type": "stream",
     "name": "stdout",
     "text": [
      "INFO:tensorflow:Assets written to: test_model_2\\assets\n"
     ]
    }
   ],
   "source": [
    "model.save(\"test_model_2\", save_format = \"tf\")"
   ]
  },
  {
   "cell_type": "code",
   "execution_count": 4,
   "metadata": {},
   "outputs": [
    {
     "output_type": "stream",
     "name": "stdout",
     "text": [
      "pip 19.1.1 from C:\\ProgramData\\Anaconda3\\lib\\site-packages\\pip (python 3.7)\n\n"
     ]
    }
   ],
   "source": [
    "!pip --version"
   ]
  },
  {
   "source": [
    "x,y=[],[]\n",
    "with h5py.File('dynamic_gestures2.hdf5', 'a') as f:\n",
    "    print(f.filename)\n",
    "    i=0\n",
    "    for _,gesture in enumerate(list(f['/'])):\n",
    "        if not \"swipe\" in gesture:\n",
    "            continue\n",
    "        print(i,gesture)\n",
    "        data = list(f['/'+gesture])\n",
    "        x.extend(data)\n",
    "        y.extend([i]*len(data))\n",
    "        i+=1\n",
    "        if gesture == \"swipe_right\":\n",
    "            print(i,\"swipe_left\")\n",
    "        elif gesture == \"swipe_up\":\n",
    "            print(i,\"swipe_down\")\n",
    "        data = list(np.flip(np.array(list(f['/'+gesture])), axis=1))\n",
    "        x.extend(data)\n",
    "        y.extend([i]*len(data))\n",
    "        i+=1\n",
    "\n",
    "x=np.array(x)\n",
    "y=np.array(y) \n",
    "y=tf.keras.utils.to_categorical(y,classes)\n",
    "x_train,x_test,y_train,y_test=train_test_split(x,y,test_size=0.1,shuffle=True)\n",
    "print(x_train.shape,x_test.shape,y_train.shape,y_test.shape)"
   ],
   "cell_type": "code",
   "metadata": {},
   "execution_count": 3,
   "outputs": [
    {
     "output_type": "stream",
     "name": "stdout",
     "text": [
      "dynamic_gestures2.hdf5\n0 swipe_right\n1 swipe_left\n2 swipe_up\n3 swipe_down\n(669, 20, 21, 3) (75, 20, 21, 3) (669, 9) (75, 9)\n"
     ]
    }
   ]
  },
  {
   "cell_type": "code",
   "execution_count": null,
   "metadata": {},
   "outputs": [],
   "source": []
  }
 ]
}