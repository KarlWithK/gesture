{
 "metadata": {
  "language_info": {
   "codemirror_mode": {
    "name": "ipython",
    "version": 3
   },
   "file_extension": ".py",
   "mimetype": "text/x-python",
   "name": "python",
   "nbconvert_exporter": "python",
   "pygments_lexer": "ipython3",
   "version": "3.7.4-final"
  },
  "orig_nbformat": 2,
  "kernelspec": {
   "name": "python3",
   "display_name": "Python 3",
   "language": "python"
  }
 },
 "nbformat": 4,
 "nbformat_minor": 2,
 "cells": [
  {
   "source": [
    "import tensorflow as tf\n",
    "import h5py\n",
    "import numpy as np\n",
    "from sklearn.model_selection import train_test_split\n",
    "\n",
    "from tensorflow.keras.layers import Dense, Flatten, Dropout"
   ],
   "cell_type": "code",
   "metadata": {},
   "execution_count": 3,
   "outputs": []
  },
  {
   "cell_type": "code",
   "execution_count": 4,
   "metadata": {},
   "outputs": [],
   "source": [
    "batch_size=16\n",
    "epochs=10\n",
    "input_shape = (20,21,3)\n",
    "classes = 6"
   ]
  },
  {
   "cell_type": "code",
   "execution_count": 5,
   "metadata": {},
   "outputs": [
    {
     "output_type": "stream",
     "name": "stdout",
     "text": [
      "bruh\ndynamic_gestures2.hdf5\n0 flick left\n1 flick right\n2 point down\n3 point left\n4 point right\n5 point up\n(391, 20, 21, 3) (44, 20, 21, 3) (391, 6) (44, 6)\n"
     ]
    }
   ],
   "source": [
    "x,y=[],[]\n",
    "print(\"bruh\")\n",
    "with h5py.File('dynamic_gestures2.hdf5', 'a') as f:\n",
    "    print(f.filename)\n",
    "    for i,gesture in enumerate(list(f['/'])):\n",
    "        print(i,gesture)\n",
    "        data = list(f['/'+gesture])\n",
    "        x.extend(data)\n",
    "        y.extend([i]*len(data))\n",
    "\n",
    "x=np.array(x)\n",
    "y=np.array(y) \n",
    "y=tf.keras.utils.to_categorical(y,classes)\n",
    "x_train,x_test,y_train,y_test=train_test_split(x,y,test_size=0.1,shuffle=True)\n",
    "print(x_train.shape,x_test.shape,y_train.shape,y_test.shape)"
   ]
  },
  {
   "cell_type": "code",
   "execution_count": 6,
   "metadata": {},
   "outputs": [
    {
     "output_type": "stream",
     "name": "stdout",
     "text": [
      "WARNING:tensorflow:From C:\\Users\\aribc\\Anaconda3\\lib\\site-packages\\tensorflow_core\\python\\ops\\resource_variable_ops.py:1630: calling BaseResourceVariable.__init__ (from tensorflow.python.ops.resource_variable_ops) with constraint is deprecated and will be removed in a future version.\n",
      "Instructions for updating:\n",
      "If using Keras pass *_constraint arguments to layers.\n",
      "Model: \"sequential\"\n",
      "_________________________________________________________________\n",
      "Layer (type)                 Output Shape              Param #   \n",
      "=================================================================\n",
      "flatten (Flatten)            (None, 1260)              0         \n",
      "_________________________________________________________________\n",
      "dense (Dense)                (None, 32)                40352     \n",
      "_________________________________________________________________\n",
      "dense_1 (Dense)              (None, 32)                1056      \n",
      "_________________________________________________________________\n",
      "dropout (Dropout)            (None, 32)                0         \n",
      "_________________________________________________________________\n",
      "dense_2 (Dense)              (None, 6)                 198       \n",
      "=================================================================\n",
      "Total params: 41,606\n",
      "Trainable params: 41,606\n",
      "Non-trainable params: 0\n",
      "_________________________________________________________________\n"
     ]
    }
   ],
   "source": [
    "model = tf.keras.models.Sequential([\n",
    "    Flatten(input_shape=(20,21,3)),\n",
    "    Dense(32, activation='relu'),\n",
    "    Dense(32, activation='relu'),\n",
    "    Dropout(0.2),\n",
    "    Dense(classes, activation='softmax')\n",
    "])\n",
    "model.build()\n",
    "model.compile(optimizer='adam',\n",
    "              loss=tf.keras.losses.CategoricalCrossentropy(),\n",
    "              metrics=['accuracy'])\n",
    "model.summary()\n"
   ]
  },
  {
   "cell_type": "code",
   "execution_count": 7,
   "metadata": {},
   "outputs": [
    {
     "output_type": "stream",
     "name": "stdout",
     "text": [
      "Train on 351 samples, validate on 40 samples\n",
      "Epoch 1/10\n",
      "351/351 [==============================] - 0s 738us/sample - loss: 1.2901 - acc: 0.5641 - val_loss: 0.8992 - val_acc: 0.7250\n",
      "Epoch 2/10\n",
      "351/351 [==============================] - 0s 151us/sample - loss: 0.7743 - acc: 0.7778 - val_loss: 0.5634 - val_acc: 0.9000\n",
      "Epoch 3/10\n",
      "351/351 [==============================] - 0s 148us/sample - loss: 0.5317 - acc: 0.8490 - val_loss: 0.4028 - val_acc: 0.9000\n",
      "Epoch 4/10\n",
      "351/351 [==============================] - 0s 151us/sample - loss: 0.3768 - acc: 0.8917 - val_loss: 0.2799 - val_acc: 0.9500\n",
      "Epoch 5/10\n",
      "351/351 [==============================] - 0s 162us/sample - loss: 0.2920 - acc: 0.9345 - val_loss: 0.2225 - val_acc: 0.9250\n",
      "Epoch 6/10\n",
      "351/351 [==============================] - 0s 182us/sample - loss: 0.2269 - acc: 0.9373 - val_loss: 0.1545 - val_acc: 0.9500\n",
      "Epoch 7/10\n",
      "351/351 [==============================] - 0s 154us/sample - loss: 0.1697 - acc: 0.9544 - val_loss: 0.1607 - val_acc: 0.9500\n",
      "Epoch 8/10\n",
      "351/351 [==============================] - 0s 168us/sample - loss: 0.1431 - acc: 0.9658 - val_loss: 0.1163 - val_acc: 0.9500\n",
      "Epoch 9/10\n",
      "351/351 [==============================] - 0s 160us/sample - loss: 0.1235 - acc: 0.9687 - val_loss: 0.1042 - val_acc: 0.9500\n",
      "Epoch 10/10\n",
      "351/351 [==============================] - 0s 160us/sample - loss: 0.1296 - acc: 0.9573 - val_loss: 0.0585 - val_acc: 1.0000\n",
      "44/44 [==============================] - 0s 227us/sample - loss: 0.0283 - acc: 1.0000\n"
     ]
    },
    {
     "output_type": "execute_result",
     "data": {
      "text/plain": [
       "[0.028274941342798145, 1.0]"
      ]
     },
     "metadata": {},
     "execution_count": 7
    }
   ],
   "source": [
    "model.fit(x_train,y_train,batch_size=batch_size,epochs=epochs,validation_split=0.1)\n",
    "model.evaluate(x_test,y_test)"
   ]
  },
  {
   "cell_type": "code",
   "execution_count": 11,
   "metadata": {},
   "outputs": [
    {
     "output_type": "stream",
     "name": "stdout",
     "text": [
      "INFO:tensorflow:Assets written to: test_model_1\\assets\n"
     ]
    }
   ],
   "source": [
    "model.save(\"test_model_1\", save_format = \"tf\")"
   ]
  },
  {
   "cell_type": "code",
   "execution_count": null,
   "metadata": {},
   "outputs": [],
   "source": []
  }
 ]
}