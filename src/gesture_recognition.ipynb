{
 "metadata": {
  "language_info": {
   "codemirror_mode": {
    "name": "ipython",
    "version": 3
   },
   "file_extension": ".py",
   "mimetype": "text/x-python",
   "name": "python",
   "nbconvert_exporter": "python",
   "pygments_lexer": "ipython3",
   "version": "3.8.8-final"
  },
  "orig_nbformat": 2,
  "kernelspec": {
   "name": "python388jvsc74a57bd02db524e06e9f5f4ffedc911c917cb75e12dbc923643829bf417064a77eb14d37",
   "display_name": "Python 3.8.8 64-bit"
  }
 },
 "nbformat": 4,
 "nbformat_minor": 2,
 "cells": [
  {
   "source": [
    "import tensorflow as tf\n",
    "from tensorflow import keras\n",
    "import h5py\n",
    "import numpy as np\n",
    "from sklearn.model_selection import train_test_split\n",
    "\n",
    "from tensorflow.keras import layers"
   ],
   "cell_type": "code",
   "metadata": {},
   "execution_count": 1,
   "outputs": []
  },
  {
   "cell_type": "code",
   "execution_count": 3,
   "metadata": {},
   "outputs": [],
   "source": [
    "batch_size=16\n",
    "epochs=20\n",
    "input_shape = (20,21,3)\n",
    "classes = 9"
   ]
  },
  {
   "cell_type": "code",
   "execution_count": null,
   "metadata": {},
   "outputs": [],
   "source": []
  },
  {
   "cell_type": "code",
   "execution_count": 20,
   "metadata": {},
   "outputs": [
    {
     "output_type": "stream",
     "name": "stdout",
     "text": [
      "dynamic_gestures2.hdf5\n0 swipe_right\n1 swipe_left\n2 swipe_up\n3 swipe_down\n(669, 20, 21, 3) (75, 20, 21, 3) (669, 9) (75, 9)\n"
     ]
    }
   ],
   "source": [
    "x,y=[],[]\n",
    "with h5py.File('dynamic_gestures2.hdf5', 'a') as f:\n",
    "    print(f.filename)\n",
    "    i=0\n",
    "    for _,gesture in enumerate(list(f['/'])):\n",
    "        if not \"swipe\" in gesture:\n",
    "            continue\n",
    "        print(i,gesture)\n",
    "        data = list(f['/'+gesture])\n",
    "        x.extend(data)\n",
    "        y.extend([i]*len(data))\n",
    "        i+=1\n",
    "        if gesture == \"swipe_right\":\n",
    "            print(i,\"swipe_left\")\n",
    "        elif gesture == \"swipe_up\":\n",
    "            print(i,\"swipe_down\")\n",
    "        data = list(np.flip(np.array(list(f['/'+gesture])), axis=1))\n",
    "        x.extend(data)\n",
    "        y.extend([i]*len(data))\n",
    "        i+=1\n",
    "\n",
    "x=np.array(x)\n",
    "y=np.array(y) \n",
    "y=tf.keras.utils.to_categorical(y,classes)\n",
    "x_train,x_test,y_train,y_test=train_test_split(x,y,test_size=0.1,shuffle=True)\n",
    "print(x_train.shape,x_test.shape,y_train.shape,y_test.shape)"
   ]
  },
  {
   "cell_type": "code",
   "execution_count": 21,
   "metadata": {},
   "outputs": [
    {
     "output_type": "stream",
     "name": "stdout",
     "text": [
      "(None, 1280)\nModel: \"model_3\"\n_________________________________________________________________\nLayer (type)                 Output Shape              Param #   \n=================================================================\ninput_4 (InputLayer)         [(None, 20, 21, 3)]       0         \n_________________________________________________________________\ntime_distributed_12 (TimeDis (None, 20, 63)            0         \n_________________________________________________________________\ntime_distributed_13 (TimeDis (None, 20, 64)            4096      \n_________________________________________________________________\ntime_distributed_14 (TimeDis (None, 20, 64)            4160      \n_________________________________________________________________\ntime_distributed_15 (TimeDis (None, 20, 64)            4160      \n_________________________________________________________________\ntime_distributed_16 (TimeDis (None, 20, 64)            4160      \n_________________________________________________________________\ntime_distributed_17 (TimeDis (None, 20, 64)            4160      \n_________________________________________________________________\nflatten_7 (Flatten)          (None, 1280)              0         \n_________________________________________________________________\nOutput (Dense)               (None, 9)                 11529     \n=================================================================\nTotal params: 32,265\nTrainable params: 32,265\nNon-trainable params: 0\n_________________________________________________________________\n"
     ]
    }
   ],
   "source": [
    "inputs = layers.Input(shape=input_shape)\n",
    "x = inputs\n",
    "x = layers.TimeDistributed(layers.Flatten())(x)\n",
    "x = layers.TimeDistributed(layers.Dense(64, activation='relu'))(x)\n",
    "x = layers.TimeDistributed(layers.Dense(64, activation='relu'))(x)\n",
    "x = layers.TimeDistributed(layers.Dense(64, activation='relu'))(x)\n",
    "x = layers.Flatten()(x)\n",
    "print(x.shape)\n",
    "output = layers.Dense(classes, activation='softmax',name='Output')(x)\n",
    "model = keras.models.Model(inputs, output)\n",
    "model.compile(optimizer='adam',\n",
    "              loss=tf.keras.losses.CategoricalCrossentropy(),\n",
    "              metrics=['accuracy'])\n",
    "model.summary()\n"
   ]
  },
  {
   "cell_type": "code",
   "execution_count": 22,
   "metadata": {},
   "outputs": [
    {
     "output_type": "stream",
     "name": "stdout",
     "text": [
      "Epoch 1/20\n",
      "38/38 [==============================] - 1s 10ms/step - loss: 1.5587 - accuracy: 0.4868 - val_loss: 0.0594 - val_accuracy: 0.9851\n",
      "Epoch 2/20\n",
      "38/38 [==============================] - 0s 5ms/step - loss: 0.0336 - accuracy: 0.9930 - val_loss: 0.0026 - val_accuracy: 1.0000\n",
      "Epoch 3/20\n",
      "38/38 [==============================] - 0s 5ms/step - loss: 0.0093 - accuracy: 0.9979 - val_loss: 0.0010 - val_accuracy: 1.0000\n",
      "Epoch 4/20\n",
      "38/38 [==============================] - 0s 5ms/step - loss: 0.0032 - accuracy: 1.0000 - val_loss: 5.4565e-04 - val_accuracy: 1.0000\n",
      "Epoch 5/20\n",
      "38/38 [==============================] - 0s 5ms/step - loss: 0.0019 - accuracy: 1.0000 - val_loss: 1.5033e-04 - val_accuracy: 1.0000\n",
      "Epoch 6/20\n",
      "38/38 [==============================] - 0s 5ms/step - loss: 2.7062e-04 - accuracy: 1.0000 - val_loss: 1.1088e-04 - val_accuracy: 1.0000\n",
      "Epoch 7/20\n",
      "38/38 [==============================] - 0s 5ms/step - loss: 1.8521e-04 - accuracy: 1.0000 - val_loss: 9.7065e-05 - val_accuracy: 1.0000\n",
      "Epoch 8/20\n",
      "38/38 [==============================] - 0s 5ms/step - loss: 1.8222e-04 - accuracy: 1.0000 - val_loss: 8.3813e-05 - val_accuracy: 1.0000\n",
      "Epoch 9/20\n",
      "38/38 [==============================] - 0s 5ms/step - loss: 1.7741e-04 - accuracy: 1.0000 - val_loss: 6.9090e-05 - val_accuracy: 1.0000\n",
      "Epoch 10/20\n",
      "38/38 [==============================] - 0s 5ms/step - loss: 1.2147e-04 - accuracy: 1.0000 - val_loss: 5.8525e-05 - val_accuracy: 1.0000\n",
      "Epoch 11/20\n",
      "38/38 [==============================] - 0s 5ms/step - loss: 9.7864e-05 - accuracy: 1.0000 - val_loss: 5.0617e-05 - val_accuracy: 1.0000\n",
      "Epoch 12/20\n",
      "38/38 [==============================] - 0s 5ms/step - loss: 9.3903e-05 - accuracy: 1.0000 - val_loss: 4.4877e-05 - val_accuracy: 1.0000\n",
      "Epoch 13/20\n",
      "38/38 [==============================] - 0s 5ms/step - loss: 7.7163e-05 - accuracy: 1.0000 - val_loss: 4.1102e-05 - val_accuracy: 1.0000\n",
      "Epoch 14/20\n",
      "38/38 [==============================] - 0s 6ms/step - loss: 8.6398e-05 - accuracy: 1.0000 - val_loss: 3.5389e-05 - val_accuracy: 1.0000\n",
      "Epoch 15/20\n",
      "38/38 [==============================] - 0s 6ms/step - loss: 6.1364e-05 - accuracy: 1.0000 - val_loss: 3.0898e-05 - val_accuracy: 1.0000\n",
      "Epoch 16/20\n",
      "38/38 [==============================] - 0s 5ms/step - loss: 4.0596e-05 - accuracy: 1.0000 - val_loss: 2.7278e-05 - val_accuracy: 1.0000\n",
      "Epoch 17/20\n",
      "38/38 [==============================] - 0s 5ms/step - loss: 4.2134e-05 - accuracy: 1.0000 - val_loss: 2.4094e-05 - val_accuracy: 1.0000\n",
      "Epoch 18/20\n",
      "38/38 [==============================] - 0s 5ms/step - loss: 5.6017e-05 - accuracy: 1.0000 - val_loss: 2.1852e-05 - val_accuracy: 1.0000\n",
      "Epoch 19/20\n",
      "38/38 [==============================] - 0s 5ms/step - loss: 4.3223e-05 - accuracy: 1.0000 - val_loss: 1.9743e-05 - val_accuracy: 1.0000\n",
      "Epoch 20/20\n",
      "38/38 [==============================] - 0s 6ms/step - loss: 5.3260e-05 - accuracy: 1.0000 - val_loss: 1.7316e-05 - val_accuracy: 1.0000\n",
      "3/3 [==============================] - 0s 4ms/step - loss: 2.8134e-04 - accuracy: 1.0000\n"
     ]
    },
    {
     "output_type": "execute_result",
     "data": {
      "text/plain": [
       "[0.00028134274180047214, 1.0]"
      ]
     },
     "metadata": {},
     "execution_count": 22
    }
   ],
   "source": [
    "model.fit(x_train,y_train,batch_size=batch_size,epochs=epochs,validation_split=0.1)\n",
    "model.evaluate(x_test,y_test)"
   ]
  },
  {
   "cell_type": "code",
   "execution_count": 23,
   "metadata": {},
   "outputs": [
    {
     "output_type": "stream",
     "name": "stdout",
     "text": [
      "INFO:tensorflow:Assets written to: test_model_2\\assets\n"
     ]
    }
   ],
   "source": [
    "model.save(\"test_model_2\", save_format = \"tf\")"
   ]
  },
  {
   "cell_type": "code",
   "execution_count": 4,
   "metadata": {},
   "outputs": [
    {
     "output_type": "stream",
     "name": "stdout",
     "text": [
      "pip 19.1.1 from C:\\ProgramData\\Anaconda3\\lib\\site-packages\\pip (python 3.7)\n\n"
     ]
    }
   ],
   "source": [
    "!pip --version"
   ]
  },
  {
   "cell_type": "code",
   "execution_count": null,
   "metadata": {},
   "outputs": [],
   "source": []
  }
 ]
}