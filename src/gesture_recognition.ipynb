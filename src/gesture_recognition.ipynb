{
 "metadata": {
  "language_info": {
   "codemirror_mode": {
    "name": "ipython",
    "version": 3
   },
   "file_extension": ".py",
   "mimetype": "text/x-python",
   "name": "python",
   "nbconvert_exporter": "python",
   "pygments_lexer": "ipython3",
   "version": "3.8.8"
  },
  "orig_nbformat": 2,
  "kernelspec": {
   "name": "python388jvsc74a57bd02db524e06e9f5f4ffedc911c917cb75e12dbc923643829bf417064a77eb14d37",
   "display_name": "Python 3.8.8 64-bit"
  }
 },
 "nbformat": 4,
 "nbformat_minor": 2,
 "cells": [
  {
   "source": [
    "import tensorflow as tf\n",
    "physical_devices = tf.config.list_physical_devices('GPU') \n",
    "tf.config.experimental.set_memory_growth(physical_devices[0], True)\n",
    "from tensorflow import keras\n",
    "import h5py\n",
    "import numpy as np\n",
    "from sklearn.model_selection import train_test_split\n",
    "\n",
    "from tensorflow.keras import layers\n",
    "\n",
    "from datagen import DataGenerator"
   ],
   "cell_type": "code",
   "metadata": {},
   "execution_count": 1,
   "outputs": []
  },
  {
   "cell_type": "code",
   "execution_count": 2,
   "metadata": {},
   "outputs": [],
   "source": [
    "batch_size=32\n",
    "epochs=10\n",
    "input_shape = (20,21,3)\n",
    "classes = 4\n",
    "train_gen = DataGenerator('dynamic_gestures2.hdf5')"
   ]
  },
  {
   "cell_type": "code",
   "execution_count": 3,
   "metadata": {},
   "outputs": [
    {
     "output_type": "stream",
     "name": "stdout",
     "text": [
      "Model: \"model\"\n_________________________________________________________________\nLayer (type)                 Output Shape              Param #   \n=================================================================\ninput_1 (InputLayer)         [(None, 20, 21, 3)]       0         \n_________________________________________________________________\ntime_distributed (TimeDistri (None, 20, 63)            0         \n_________________________________________________________________\ntime_distributed_1 (TimeDist (None, 20, 63)            0         \n_________________________________________________________________\ntime_distributed_2 (TimeDist (None, 20, 64)            4096      \n_________________________________________________________________\ntime_distributed_3 (TimeDist (None, 20, 64)            0         \n_________________________________________________________________\ntime_distributed_4 (TimeDist (None, 20, 64)            4160      \n_________________________________________________________________\ntime_distributed_5 (TimeDist (None, 20, 64)            0         \n_________________________________________________________________\ntime_distributed_6 (TimeDist (None, 20, 64)            4160      \n_________________________________________________________________\ntime_distributed_7 (TimeDist (None, 20, 64)            0         \n_________________________________________________________________\ngru (GRU)                    (None, 32)                9408      \n_________________________________________________________________\nOutput (Dense)               (None, 4)                 132       \n=================================================================\nTotal params: 21,956\nTrainable params: 21,956\nNon-trainable params: 0\n_________________________________________________________________\n"
     ]
    }
   ],
   "source": [
    "inputs = layers.Input(shape=input_shape)\n",
    "x = inputs\n",
    "x = layers.TimeDistributed(layers.Flatten())(x)\n",
    "x = layers.TimeDistributed(layers.Dropout(0.5))(x)\n",
    "x = layers.TimeDistributed(layers.Dense(64, activation='relu'))(x)\n",
    "x = layers.TimeDistributed(layers.Dropout(0.2))(x)\n",
    "x = layers.TimeDistributed(layers.Dense(64, activation='relu'))(x)\n",
    "x = layers.TimeDistributed(layers.Dropout(0.2))(x)\n",
    "x = layers.TimeDistributed(layers.Dense(64, activation='relu'))(x)\n",
    "x = layers.TimeDistributed(layers.Dropout(0.2))(x)\n",
    "x = layers.GRU(32)(x)\n",
    "output = layers.Dense(classes, activation='softmax',name='Output')(x)\n",
    "model = keras.models.Model(inputs, output)\n",
    "model.compile(optimizer='adam',\n",
    "              loss=tf.keras.losses.CategoricalCrossentropy(),\n",
    "              metrics=['accuracy'])\n",
    "model.summary()\n"
   ]
  },
  {
   "cell_type": "code",
   "execution_count": 4,
   "metadata": {},
   "outputs": [
    {
     "output_type": "stream",
     "name": "stdout",
     "text": [
      "Epoch 1/10\n",
      "C:\\Python38\\lib\\site-packages\\tensorflow\\python\\keras\\engine\\training.py:1844: UserWarning: `Model.fit_generator` is deprecated and will be removed in a future version. Please use `Model.fit`, which supports generators.\n",
      "  warnings.warn('`Model.fit_generator` is deprecated and '\n",
      "69/69 [==============================] - 4s 7ms/step - loss: 1.1842 - accuracy: 0.5305\n",
      "Epoch 2/10\n",
      "69/69 [==============================] - 0s 7ms/step - loss: 0.3060 - accuracy: 0.9104\n",
      "Epoch 3/10\n",
      "69/69 [==============================] - 0s 6ms/step - loss: 0.1169 - accuracy: 0.9719\n",
      "Epoch 4/10\n",
      "69/69 [==============================] - 0s 7ms/step - loss: 0.0688 - accuracy: 0.9802\n",
      "Epoch 5/10\n",
      "69/69 [==============================] - 0s 7ms/step - loss: 0.0544 - accuracy: 0.9841\n",
      "Epoch 6/10\n",
      "69/69 [==============================] - 0s 7ms/step - loss: 0.0392 - accuracy: 0.9891\n",
      "Epoch 7/10\n",
      "69/69 [==============================] - 0s 6ms/step - loss: 0.0260 - accuracy: 0.9947\n",
      "Epoch 8/10\n",
      "69/69 [==============================] - 0s 6ms/step - loss: 0.0251 - accuracy: 0.9954\n",
      "Epoch 9/10\n",
      "69/69 [==============================] - 0s 7ms/step - loss: 0.0175 - accuracy: 0.9970\n",
      "Epoch 10/10\n",
      "69/69 [==============================] - 0s 6ms/step - loss: 0.0276 - accuracy: 0.9911\n"
     ]
    },
    {
     "output_type": "execute_result",
     "data": {
      "text/plain": [
       "<tensorflow.python.keras.callbacks.History at 0x242e35e16d0>"
      ]
     },
     "metadata": {},
     "execution_count": 4
    }
   ],
   "source": [
    "model.fit_generator(generator=train_gen,epochs=epochs)"
   ]
  },
  {
   "cell_type": "code",
   "execution_count": 5,
   "metadata": {},
   "outputs": [
    {
     "output_type": "stream",
     "name": "stderr",
     "text": [
      "WARNING:absl:Found untraced functions such as gru_cell_layer_call_fn, gru_cell_layer_call_and_return_conditional_losses, gru_cell_layer_call_fn, gru_cell_layer_call_and_return_conditional_losses, gru_cell_layer_call_and_return_conditional_losses while saving (showing 5 of 5). These functions will not be directly callable after loading.\n",
      "WARNING:absl:Found untraced functions such as gru_cell_layer_call_fn, gru_cell_layer_call_and_return_conditional_losses, gru_cell_layer_call_fn, gru_cell_layer_call_and_return_conditional_losses, gru_cell_layer_call_and_return_conditional_losses while saving (showing 5 of 5). These functions will not be directly callable after loading.\n",
      "INFO:tensorflow:Assets written to: test_model_2\\assets\n",
      "INFO:tensorflow:Assets written to: test_model_2\\assets\n"
     ]
    }
   ],
   "source": [
    "model.save(\"test_model_2\", save_format = \"tf\")"
   ]
  },
  {
   "cell_type": "code",
   "execution_count": 4,
   "metadata": {},
   "outputs": [
    {
     "output_type": "stream",
     "name": "stdout",
     "text": [
      "pip 19.1.1 from C:\\ProgramData\\Anaconda3\\lib\\site-packages\\pip (python 3.7)\n\n"
     ]
    }
   ],
   "source": [
    "!pip --version"
   ]
  },
  {
   "source": [
    "x,y=[],[]\n",
    "with h5py.File('dynamic_gestures2.hdf5', 'a') as f:\n",
    "    print(f.filename)\n",
    "    i=0\n",
    "    for _,gesture in enumerate(list(f['/'])):\n",
    "        if not \"swipe\" in gesture:\n",
    "            continue\n",
    "        print(i,gesture)\n",
    "        data = list(f['/'+gesture])\n",
    "        x.extend(data)\n",
    "        y.extend([i]*len(data))\n",
    "        i+=1\n",
    "        if gesture == \"swipe_right\":\n",
    "            print(i,\"swipe_left\")\n",
    "        elif gesture == \"swipe_up\":\n",
    "            print(i,\"swipe_down\")\n",
    "        data = list(np.flip(np.array(list(f['/'+gesture])), axis=1))\n",
    "        x.extend(data)\n",
    "        y.extend([i]*len(data))\n",
    "        i+=1\n",
    "\n",
    "x=np.array(x)\n",
    "y=np.array(y) \n",
    "y=tf.keras.utils.to_categorical(y,classes)\n",
    "x_train,x_test,y_train,y_test=train_test_split(x,y,test_size=0.1,shuffle=True)\n",
    "print(x_train.shape,x_test.shape,y_train.shape,y_test.shape)"
   ],
   "cell_type": "code",
   "metadata": {},
   "execution_count": 3,
   "outputs": [
    {
     "output_type": "stream",
     "name": "stdout",
     "text": [
      "dynamic_gestures2.hdf5\n0 swipe_right\n1 swipe_left\n2 swipe_up\n3 swipe_down\n(669, 20, 21, 3) (75, 20, 21, 3) (669, 9) (75, 9)\n"
     ]
    }
   ]
  },
  {
   "cell_type": "code",
   "execution_count": null,
   "metadata": {},
   "outputs": [],
   "source": []
  }
 ]
}