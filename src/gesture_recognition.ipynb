{
 "metadata": {
  "language_info": {
   "codemirror_mode": {
    "name": "ipython",
    "version": 3
   },
   "file_extension": ".py",
   "mimetype": "text/x-python",
   "name": "python",
   "nbconvert_exporter": "python",
   "pygments_lexer": "ipython3",
   "version": "3.8.8-final"
  },
  "orig_nbformat": 2,
  "kernelspec": {
   "name": "python3",
   "display_name": "Python 3",
   "language": "python"
  }
 },
 "nbformat": 4,
 "nbformat_minor": 2,
 "cells": [
  {
   "cell_type": "code",
   "execution_count": 1,
   "metadata": {},
   "outputs": [],
   "source": [
    "import tensorflow as tf\n",
    "import h5py\n",
    "import numpy as np\n",
    "from sklearn.model_selection import train_test_split\n",
    "\n",
    "from tensorflow.keras.layers import Dense, Flatten, Dropout"
   ]
  },
  {
   "cell_type": "code",
   "execution_count": 2,
   "metadata": {},
   "outputs": [],
   "source": [
    "batch_size=16\n",
    "epochs=10\n",
    "input_shape = (21,3)\n",
    "classes = 6"
   ]
  },
  {
   "cell_type": "code",
   "execution_count": 3,
   "metadata": {},
   "outputs": [
    {
     "output_type": "stream",
     "name": "stdout",
     "text": [
      "../gestures.hdf5\n",
      "0 five_finger\n",
      "1 four_finger\n",
      "2 ok\n",
      "3 one_finger\n",
      "4 three_finger\n",
      "5 two_finger\n",
      "(69919, 21, 3) (7769, 21, 3)\n"
     ]
    }
   ],
   "source": [
    "x,y=[],[]\n",
    "with h5py.File('../gestures.hdf5','a') as f:\n",
    "    print(f.filename)\n",
    "    for i,gesture in enumerate(list(f['/'])):\n",
    "        print(i,gesture)\n",
    "        data = list(f['/'+gesture+'/ds1'])\n",
    "        x.extend(data)\n",
    "        y.extend([i]*len(data))\n",
    "\n",
    "x=np.array(x)\n",
    "y=np.array(y) \n",
    "y=tf.keras.utils.to_categorical(y,classes)\n",
    "\n",
    "x_train,x_test,y_train,y_test=train_test_split(x,y,test_size=0.1,shuffle=True)\n",
    "print(x_train.shape,x_test.shape)"
   ]
  },
  {
   "cell_type": "code",
   "execution_count": 11,
   "metadata": {},
   "outputs": [
    {
     "output_type": "stream",
     "name": "stdout",
     "text": [
      "Model: \"sequential_3\"\n_________________________________________________________________\nLayer (type)                 Output Shape              Param #   \n=================================================================\nflatten_3 (Flatten)          (None, 63)                0         \n_________________________________________________________________\ndense_13 (Dense)             (None, 256)               16384     \n_________________________________________________________________\ndense_14 (Dense)             (None, 256)               65792     \n_________________________________________________________________\ndropout_4 (Dropout)          (None, 256)               0         \n_________________________________________________________________\ndense_15 (Dense)             (None, 6)                 1542      \n=================================================================\nTotal params: 83,718\nTrainable params: 83,718\nNon-trainable params: 0\n_________________________________________________________________\n"
     ]
    }
   ],
   "source": [
    "model = tf.keras.models.Sequential([\n",
    "    Flatten(input_shape=(21,3)),\n",
    "    Dense(32, activation='relu'),\n",
    "    Dense(32, activation='relu'),\n",
    "    Dropout(0.2),\n",
    "    Dense(classes, activation='softmax')\n",
    "])\n",
    "model.build()\n",
    "model.compile(optimizer='adam',\n",
    "              loss=tf.keras.losses.CategoricalCrossentropy(),\n",
    "              metrics=['accuracy'])\n",
    "model.summary()\n"
   ]
  },
  {
   "cell_type": "code",
   "execution_count": 12,
   "metadata": {},
   "outputs": [
    {
     "output_type": "stream",
     "name": "stdout",
     "text": [
      "Epoch 1/10\n",
      "3933/3933 [==============================] - 15s 4ms/step - loss: 0.5535 - accuracy: 0.8093 - val_loss: 0.2150 - val_accuracy: 0.9314\n",
      "Epoch 2/10\n",
      "3933/3933 [==============================] - 15s 4ms/step - loss: 0.2285 - accuracy: 0.9268 - val_loss: 0.1815 - val_accuracy: 0.9424\n",
      "Epoch 3/10\n",
      "3933/3933 [==============================] - 15s 4ms/step - loss: 0.1837 - accuracy: 0.9392 - val_loss: 0.1576 - val_accuracy: 0.9489\n",
      "Epoch 4/10\n",
      "3933/3933 [==============================] - 15s 4ms/step - loss: 0.1590 - accuracy: 0.9469 - val_loss: 0.1492 - val_accuracy: 0.9511\n",
      "Epoch 5/10\n",
      "3933/3933 [==============================] - 16s 4ms/step - loss: 0.1526 - accuracy: 0.9491 - val_loss: 0.1404 - val_accuracy: 0.9534\n",
      "Epoch 6/10\n",
      "3933/3933 [==============================] - 16s 4ms/step - loss: 0.1363 - accuracy: 0.9548 - val_loss: 0.1353 - val_accuracy: 0.9557\n",
      "Epoch 7/10\n",
      "3933/3933 [==============================] - 15s 4ms/step - loss: 0.1254 - accuracy: 0.9578 - val_loss: 0.1325 - val_accuracy: 0.9545\n",
      "Epoch 8/10\n",
      "3933/3933 [==============================] - 14s 4ms/step - loss: 0.1140 - accuracy: 0.9596 - val_loss: 0.1214 - val_accuracy: 0.9597\n",
      "Epoch 9/10\n",
      "3933/3933 [==============================] - 14s 4ms/step - loss: 0.1105 - accuracy: 0.9632 - val_loss: 0.1237 - val_accuracy: 0.9582\n",
      "Epoch 10/10\n",
      "3933/3933 [==============================] - 15s 4ms/step - loss: 0.1116 - accuracy: 0.9615 - val_loss: 0.1177 - val_accuracy: 0.9625\n",
      "243/243 [==============================] - 1s 3ms/step - loss: 0.1175 - accuracy: 0.9620\n"
     ]
    },
    {
     "output_type": "execute_result",
     "data": {
      "text/plain": [
       "[0.11751742660999298, 0.9620285630226135]"
      ]
     },
     "metadata": {},
     "execution_count": 12
    }
   ],
   "source": [
    "model.fit(x_train,y_train,batch_size=batch_size,epochs=epochs,validation_split=0.1)\n",
    "model.evaluate(x_test,y_test)"
   ]
  },
  {
   "cell_type": "code",
   "execution_count": 13,
   "metadata": {},
   "outputs": [
    {
     "output_type": "stream",
     "name": "stdout",
     "text": [
      "INFO:tensorflow:Assets written to: test_model_1\\assets\n"
     ]
    }
   ],
   "source": [
    "model.save('test_model_1')"
   ]
  },
  {
   "cell_type": "code",
   "execution_count": null,
   "metadata": {},
   "outputs": [],
   "source": []
  }
 ]
}