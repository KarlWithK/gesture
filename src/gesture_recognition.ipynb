{
 "metadata": {
  "language_info": {
   "codemirror_mode": {
    "name": "ipython",
    "version": 3
   },
   "file_extension": ".py",
   "mimetype": "text/x-python",
   "name": "python",
   "nbconvert_exporter": "python",
   "pygments_lexer": "ipython3",
   "version": "3.8.8-final"
  },
  "orig_nbformat": 2,
  "kernelspec": {
   "name": "python3",
   "display_name": "Python 3",
   "language": "python"
  }
 },
 "nbformat": 4,
 "nbformat_minor": 2,
 "cells": [
  {
   "source": [
    "import tensorflow as tf\n",
    "from tensorflow import keras\n",
    "import h5py\n",
    "import numpy as np\n",
    "from sklearn.model_selection import train_test_split\n",
    "\n",
    "from tensorflow.keras import layers"
   ],
   "cell_type": "code",
   "metadata": {},
   "execution_count": 5,
   "outputs": []
  },
  {
   "cell_type": "code",
   "execution_count": 2,
   "metadata": {},
   "outputs": [],
   "source": [
    "batch_size=16\n",
    "epochs=10\n",
    "input_shape = (20,21,3)\n",
    "classes = 6"
   ]
  },
  {
   "cell_type": "code",
   "execution_count": 3,
   "metadata": {},
   "outputs": [
    {
     "output_type": "stream",
     "name": "stdout",
     "text": [
      "dynamic_gestures2.hdf5\n0 flick left\n1 flick right\n2 point down\n3 point left\n4 point right\n5 point up\n(392, 20, 21, 3) (44, 20, 21, 3) (392, 6) (44, 6)\n"
     ]
    }
   ],
   "source": [
    "x,y=[],[]\n",
    "with h5py.File('dynamic_gestures2.hdf5', 'a') as f:\n",
    "    print(f.filename)\n",
    "    for i,gesture in enumerate(list(f['/'])):\n",
    "        print(i,gesture)\n",
    "        data = list(f['/'+gesture])\n",
    "        x.extend(data)\n",
    "        y.extend([i]*len(data))\n",
    "\n",
    "x=np.array(x)\n",
    "y=np.array(y) \n",
    "y=tf.keras.utils.to_categorical(y,classes)\n",
    "x_train,x_test,y_train,y_test=train_test_split(x,y,test_size=0.1,shuffle=True)\n",
    "print(x_train.shape,x_test.shape,y_train.shape,y_test.shape)"
   ]
  },
  {
   "cell_type": "code",
   "execution_count": 18,
   "metadata": {},
   "outputs": [
    {
     "output_type": "stream",
     "name": "stdout",
     "text": [
      "(None, 20, 21, 3)\n(None, 20, 63)\n(None, 20, 32)\n(None, 640)\nModel: \"model_5\"\n_________________________________________________________________\nLayer (type)                 Output Shape              Param #   \n=================================================================\ninput_11 (InputLayer)        [(None, 20, 21, 3)]       0         \n_________________________________________________________________\ntime_distributed_8 (TimeDist (None, 20, 63)            0         \n_________________________________________________________________\ntime_distributed_9 (TimeDist (None, 20, 32)            2048      \n_________________________________________________________________\nflatten_10 (Flatten)         (None, 640)               0         \n_________________________________________________________________\nOutput (Dense)               (None, 6)                 3846      \n=================================================================\nTotal params: 5,894\nTrainable params: 5,894\nNon-trainable params: 0\n_________________________________________________________________\n"
     ]
    }
   ],
   "source": [
    "inputs = layers.Input(shape=input_shape)\n",
    "x = inputs\n",
    "print(x.shape)\n",
    "x = layers.TimeDistributed(layers.Flatten())(x)\n",
    "print(x.shape)\n",
    "x = layers.TimeDistributed(layers.Dense(32, activation='relu'))(x)\n",
    "print(x.shape)\n",
    "x = layers.Flatten()(x)\n",
    "print(x.shape)\n",
    "output = layers.Dense(classes, activation='softmax',name='Output')(x)\n",
    "model = keras.models.Model(inputs, output)\n",
    "model.compile(optimizer='adam',\n",
    "              loss=tf.keras.losses.CategoricalCrossentropy(),\n",
    "              metrics=['accuracy'])\n",
    "model.summary()\n"
   ]
  },
  {
   "cell_type": "code",
   "execution_count": 19,
   "metadata": {},
   "outputs": [
    {
     "output_type": "stream",
     "name": "stdout",
     "text": [
      "Epoch 1/10\n",
      "22/22 [==============================] - 3s 95ms/step - loss: 1.6219 - accuracy: 0.4055 - val_loss: 1.1634 - val_accuracy: 0.7250\n",
      "Epoch 2/10\n",
      "22/22 [==============================] - 0s 4ms/step - loss: 0.9542 - accuracy: 0.8380 - val_loss: 0.7844 - val_accuracy: 0.8000\n",
      "Epoch 3/10\n",
      "22/22 [==============================] - 0s 5ms/step - loss: 0.5774 - accuracy: 0.8939 - val_loss: 0.5498 - val_accuracy: 0.8250\n",
      "Epoch 4/10\n",
      "22/22 [==============================] - 0s 5ms/step - loss: 0.3999 - accuracy: 0.9233 - val_loss: 0.3384 - val_accuracy: 0.9000\n",
      "Epoch 5/10\n",
      "22/22 [==============================] - 0s 5ms/step - loss: 0.2642 - accuracy: 0.9572 - val_loss: 0.3022 - val_accuracy: 0.8750\n",
      "Epoch 6/10\n",
      "22/22 [==============================] - 0s 4ms/step - loss: 0.1977 - accuracy: 0.9503 - val_loss: 0.2265 - val_accuracy: 0.9250\n",
      "Epoch 7/10\n",
      "22/22 [==============================] - 0s 5ms/step - loss: 0.1309 - accuracy: 0.9798 - val_loss: 0.1649 - val_accuracy: 0.9250\n",
      "Epoch 8/10\n",
      "22/22 [==============================] - 0s 5ms/step - loss: 0.1225 - accuracy: 0.9773 - val_loss: 0.1515 - val_accuracy: 0.9250\n",
      "Epoch 9/10\n",
      "22/22 [==============================] - 0s 4ms/step - loss: 0.0964 - accuracy: 0.9930 - val_loss: 0.1164 - val_accuracy: 0.9750\n",
      "Epoch 10/10\n",
      "22/22 [==============================] - 0s 5ms/step - loss: 0.0957 - accuracy: 0.9864 - val_loss: 0.1487 - val_accuracy: 0.9250\n",
      "2/2 [==============================] - 0s 3ms/step - loss: 0.0552 - accuracy: 1.0000\n"
     ]
    },
    {
     "output_type": "execute_result",
     "data": {
      "text/plain": [
       "[0.05524594709277153, 1.0]"
      ]
     },
     "metadata": {},
     "execution_count": 19
    }
   ],
   "source": [
    "model.fit(x_train,y_train,batch_size=batch_size,epochs=epochs,validation_split=0.1)\n",
    "model.evaluate(x_test,y_test)"
   ]
  },
  {
   "cell_type": "code",
   "execution_count": 20,
   "metadata": {},
   "outputs": [
    {
     "output_type": "stream",
     "name": "stdout",
     "text": [
      "INFO:tensorflow:Assets written to: test_model_2\\assets\n"
     ]
    }
   ],
   "source": [
    "model.save(\"test_model_2\", save_format = \"tf\")"
   ]
  },
  {
   "cell_type": "code",
   "execution_count": null,
   "metadata": {},
   "outputs": [],
   "source": []
  }
 ]
}