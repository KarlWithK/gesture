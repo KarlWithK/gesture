{
 "metadata": {
  "language_info": {
   "codemirror_mode": {
    "name": "ipython",
    "version": 3
   },
   "file_extension": ".py",
   "mimetype": "text/x-python",
   "name": "python",
   "nbconvert_exporter": "python",
   "pygments_lexer": "ipython3",
   "version": "3.8.8"
  },
  "orig_nbformat": 2,
  "kernelspec": {
   "name": "python388jvsc74a57bd02db524e06e9f5f4ffedc911c917cb75e12dbc923643829bf417064a77eb14d37",
   "display_name": "Python 3.8.8 64-bit"
  }
 },
 "nbformat": 4,
 "nbformat_minor": 2,
 "cells": [
  {
   "cell_type": "code",
   "execution_count": 1,
   "metadata": {},
   "outputs": [],
   "source": [
    "import tensorflow as tf\n",
    "physicalDevices = tf.config.list_physical_devices('GPU') \n",
    "if physicalDevices:\n",
    "    tf.config.experimental.set_memory_growth(physicalDevices[0], True)  \n",
    "from tensorflow import keras\n",
    "from tensorflow.keras import layers\n",
    "from data_preprocessor import DataGenerator, GESTURES\n",
    "\n",
    "import datetime"
   ]
  },
  {
   "cell_type": "code",
   "execution_count": 2,
   "metadata": {},
   "outputs": [],
   "source": [
    "batch_size=64\n",
    "epochs=30\n",
    "input_shape = (20,21,3)\n",
    "classes = len(GESTURES)\n",
    "trainGen = DataGenerator('gesture_dataset.h5')"
   ]
  },
  {
   "cell_type": "code",
   "execution_count": 3,
   "metadata": {},
   "outputs": [
    {
     "output_type": "stream",
     "name": "stdout",
     "text": [
      "Model: \"model\"\n_________________________________________________________________\nLayer (type)                 Output Shape              Param #   \n=================================================================\ninput_1 (InputLayer)         [(None, 20, 21, 3)]       0         \n_________________________________________________________________\ntime_distributed (TimeDistri (None, 20, 63)            0         \n_________________________________________________________________\ntime_distributed_1 (TimeDist (None, 20, 63)            0         \n_________________________________________________________________\ntime_distributed_2 (TimeDist (None, 20, 64)            4096      \n_________________________________________________________________\ntime_distributed_3 (TimeDist (None, 20, 64)            0         \n_________________________________________________________________\ntime_distributed_4 (TimeDist (None, 20, 64)            4160      \n_________________________________________________________________\ntime_distributed_5 (TimeDist (None, 20, 64)            0         \n_________________________________________________________________\ntime_distributed_6 (TimeDist (None, 20, 64)            4160      \n_________________________________________________________________\ntime_distributed_7 (TimeDist (None, 20, 64)            0         \n_________________________________________________________________\ngru (GRU)                    (None, 64)                24960     \n_________________________________________________________________\nOutput (Dense)               (None, 10)                650       \n=================================================================\nTotal params: 38,026\nTrainable params: 38,026\nNon-trainable params: 0\n_________________________________________________________________\n"
     ]
    }
   ],
   "source": [
    "inputs = layers.Input(shape=input_shape)\n",
    "x = inputs\n",
    "x = layers.TimeDistributed(layers.Flatten())(x)\n",
    "x = layers.TimeDistributed(layers.Dropout(0.5))(x)\n",
    "x = layers.TimeDistributed(layers.Dense(64, activation='relu'))(x)\n",
    "x = layers.TimeDistributed(layers.Dropout(0.5))(x)\n",
    "x = layers.TimeDistributed(layers.Dense(64, activation='relu'))(x)\n",
    "x = layers.TimeDistributed(layers.Dropout(0.3))(x)\n",
    "x = layers.TimeDistributed(layers.Dense(64, activation='relu'))(x)\n",
    "x = layers.TimeDistributed(layers.Dropout(0.2))(x)\n",
    "x = layers.GRU(64)(x)\n",
    "output = layers.Dense(classes, activation='softmax',name='Output')(x)\n",
    "model = keras.models.Model(inputs, output)\n",
    "model.compile(optimizer='adam',\n",
    "              loss=tf.keras.losses.CategoricalCrossentropy(),\n",
    "              metrics=['accuracy'])\n",
    "model.summary()"
   ]
  },
  {
   "cell_type": "code",
   "execution_count": 4,
   "metadata": {},
   "outputs": [
    {
     "output_type": "stream",
     "name": "stdout",
     "text": [
      "Epoch 1/30\n",
      "C:\\Python38\\lib\\site-packages\\tensorflow\\python\\keras\\engine\\training.py:1844: UserWarning: `Model.fit_generator` is deprecated and will be removed in a future version. Please use `Model.fit`, which supports generators.\n",
      "  warnings.warn('`Model.fit_generator` is deprecated and '\n",
      "108/108 [==============================] - 4s 7ms/step - loss: 1.9530 - accuracy: 0.2699\n",
      "Epoch 2/30\n",
      "108/108 [==============================] - 1s 7ms/step - loss: 0.6126 - accuracy: 0.7780\n",
      "Epoch 3/30\n",
      "108/108 [==============================] - 1s 7ms/step - loss: 0.2738 - accuracy: 0.9198\n",
      "Epoch 4/30\n",
      "108/108 [==============================] - 1s 8ms/step - loss: 0.1704 - accuracy: 0.9569\n",
      "Epoch 5/30\n",
      "108/108 [==============================] - 1s 7ms/step - loss: 0.0889 - accuracy: 0.9768\n",
      "Epoch 6/30\n",
      "108/108 [==============================] - 1s 8ms/step - loss: 0.0652 - accuracy: 0.9828\n",
      "Epoch 7/30\n",
      "108/108 [==============================] - 1s 7ms/step - loss: 0.0563 - accuracy: 0.9861\n",
      "Epoch 8/30\n",
      "108/108 [==============================] - 1s 7ms/step - loss: 0.0770 - accuracy: 0.9797\n",
      "Epoch 9/30\n",
      "108/108 [==============================] - 1s 7ms/step - loss: 0.0500 - accuracy: 0.9864\n",
      "Epoch 10/30\n",
      "108/108 [==============================] - 1s 8ms/step - loss: 0.0395 - accuracy: 0.9882\n",
      "Epoch 11/30\n",
      "108/108 [==============================] - 1s 7ms/step - loss: 0.0308 - accuracy: 0.9929\n",
      "Epoch 12/30\n",
      "108/108 [==============================] - 1s 8ms/step - loss: 0.0339 - accuracy: 0.9918\n",
      "Epoch 13/30\n",
      "108/108 [==============================] - 1s 7ms/step - loss: 0.0309 - accuracy: 0.9921\n",
      "Epoch 14/30\n",
      "108/108 [==============================] - 1s 8ms/step - loss: 0.0297 - accuracy: 0.9921\n",
      "Epoch 15/30\n",
      "108/108 [==============================] - 1s 9ms/step - loss: 0.0308 - accuracy: 0.9905\n",
      "Epoch 16/30\n",
      "108/108 [==============================] - 1s 9ms/step - loss: 0.0279 - accuracy: 0.9922\n",
      "Epoch 17/30\n",
      "108/108 [==============================] - 1s 9ms/step - loss: 0.0231 - accuracy: 0.9934\n",
      "Epoch 18/30\n",
      "108/108 [==============================] - 1s 7ms/step - loss: 0.0185 - accuracy: 0.9963\n",
      "Epoch 19/30\n",
      "108/108 [==============================] - 1s 7ms/step - loss: 0.0125 - accuracy: 0.9974\n",
      "Epoch 20/30\n",
      "108/108 [==============================] - 1s 7ms/step - loss: 0.0169 - accuracy: 0.9945\n",
      "Epoch 21/30\n",
      "108/108 [==============================] - 1s 8ms/step - loss: 0.0195 - accuracy: 0.9954\n",
      "Epoch 22/30\n",
      "108/108 [==============================] - 1s 8ms/step - loss: 0.0226 - accuracy: 0.9940\n",
      "Epoch 23/30\n",
      "108/108 [==============================] - 1s 7ms/step - loss: 0.0132 - accuracy: 0.9977\n",
      "Epoch 24/30\n",
      "108/108 [==============================] - 1s 7ms/step - loss: 0.0246 - accuracy: 0.9929\n",
      "Epoch 25/30\n",
      "108/108 [==============================] - 1s 8ms/step - loss: 0.0134 - accuracy: 0.9955\n",
      "Epoch 26/30\n",
      "108/108 [==============================] - 1s 7ms/step - loss: 0.0221 - accuracy: 0.9930\n",
      "Epoch 27/30\n",
      "108/108 [==============================] - 1s 7ms/step - loss: 0.0262 - accuracy: 0.9941\n",
      "Epoch 28/30\n",
      "108/108 [==============================] - 1s 7ms/step - loss: 0.0138 - accuracy: 0.9970\n",
      "Epoch 29/30\n",
      "108/108 [==============================] - 1s 7ms/step - loss: 0.0138 - accuracy: 0.9979\n",
      "Epoch 30/30\n",
      "108/108 [==============================] - 1s 7ms/step - loss: 0.0155 - accuracy: 0.9955\n"
     ]
    },
    {
     "output_type": "execute_result",
     "data": {
      "text/plain": [
       "<tensorflow.python.keras.callbacks.History at 0x21c022457f0>"
      ]
     },
     "metadata": {},
     "execution_count": 4
    }
   ],
   "source": [
    "model.fit(generator=trainGen,epochs=epochs)"
   ]
  },
  {
   "cell_type": "code",
   "execution_count": 5,
   "metadata": {},
   "outputs": [
    {
     "output_type": "stream",
     "name": "stderr",
     "text": [
      "WARNING:absl:Found untraced functions such as gru_cell_layer_call_fn, gru_cell_layer_call_and_return_conditional_losses, gru_cell_layer_call_fn, gru_cell_layer_call_and_return_conditional_losses, gru_cell_layer_call_and_return_conditional_losses while saving (showing 5 of 5). These functions will not be directly callable after loading.\n",
      "WARNING:absl:Found untraced functions such as gru_cell_layer_call_fn, gru_cell_layer_call_and_return_conditional_losses, gru_cell_layer_call_fn, gru_cell_layer_call_and_return_conditional_losses, gru_cell_layer_call_and_return_conditional_losses while saving (showing 5 of 5). These functions will not be directly callable after loading.\n",
      "INFO:tensorflow:Assets written to: C:\\Users\\17ami\\AppData\\Local\\Temp\\tmp6xo2lbeg\\assets\n",
      "INFO:tensorflow:Assets written to: C:\\Users\\17ami\\AppData\\Local\\Temp\\tmp6xo2lbeg\\assets\n"
     ]
    }
   ],
   "source": [
    "converter = tf.lite.TFLiteConverter.from_keras_model(model)\n",
    "converter.optimizations = [tf.lite.Optimize.DEFAULT]\n",
    "tfliteModel = converter.convert()\n",
    "modelPath = \"saved_models/MODEL-{}.tflite\".format(datetime.datetime.now().strftime(\"%Y-%m-%d-%H-%M-%S\"))\n",
    "with open(modelPath, 'wb') as f:\n",
    "  f.write(tfliteModel)"
   ]
  },
  {
   "cell_type": "code",
   "execution_count": null,
   "metadata": {},
   "outputs": [],
   "source": []
  }
 ]
}