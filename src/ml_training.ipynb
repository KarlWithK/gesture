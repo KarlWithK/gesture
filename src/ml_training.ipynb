{
 "metadata": {
  "language_info": {
   "codemirror_mode": {
    "name": "ipython",
    "version": 3
   },
   "file_extension": ".py",
   "mimetype": "text/x-python",
   "name": "python",
   "nbconvert_exporter": "python",
   "pygments_lexer": "ipython3",
   "version": "3.8.8"
  },
  "orig_nbformat": 2,
  "kernelspec": {
   "name": "python388jvsc74a57bd02db524e06e9f5f4ffedc911c917cb75e12dbc923643829bf417064a77eb14d37",
   "display_name": "Python 3.8.8 64-bit"
  }
 },
 "nbformat": 4,
 "nbformat_minor": 2,
 "cells": [
  {
   "cell_type": "code",
   "execution_count": 1,
   "metadata": {},
   "outputs": [],
   "source": [
    "import tensorflow as tf\n",
    "physicalDevices = tf.config.list_physical_devices('GPU') \n",
    "if physicalDevices:\n",
    "    tf.config.experimental.set_memory_growth(physicalDevices[0], True)  \n",
    "from tensorflow import keras\n",
    "from tensorflow.keras import layers\n",
    "from data_preprocessor import DataGenerator\n",
    "from gestures import GESTURES\n",
    "\n",
    "\n",
    "import datetime"
   ]
  },
  {
   "cell_type": "code",
   "execution_count": 4,
   "metadata": {},
   "outputs": [],
   "source": [
    "batch_size=64\n",
    "epochs=50\n",
    "input_shape = (10,21,3)\n",
    "classes = len(GESTURES)\n",
    "trainGen = DataGenerator('gesture_dataset.h5',batchSize=batch_size, dim=input_shape)"
   ]
  },
  {
   "cell_type": "code",
   "execution_count": 5,
   "metadata": {},
   "outputs": [
    {
     "output_type": "stream",
     "name": "stdout",
     "text": [
      "Model: \"model\"\n_________________________________________________________________\nLayer (type)                 Output Shape              Param #   \n=================================================================\ninput_1 (InputLayer)         [(None, 10, 21, 3)]       0         \n_________________________________________________________________\ntime_distributed (TimeDistri (None, 10, 63)            0         \n_________________________________________________________________\ntime_distributed_1 (TimeDist (None, 10, 63)            0         \n_________________________________________________________________\ntime_distributed_2 (TimeDist (None, 10, 64)            4096      \n_________________________________________________________________\ntime_distributed_3 (TimeDist (None, 10, 64)            0         \n_________________________________________________________________\ntime_distributed_4 (TimeDist (None, 10, 64)            4160      \n_________________________________________________________________\ntime_distributed_5 (TimeDist (None, 10, 64)            0         \n_________________________________________________________________\ntime_distributed_6 (TimeDist (None, 10, 64)            4160      \n_________________________________________________________________\ntime_distributed_7 (TimeDist (None, 10, 64)            0         \n_________________________________________________________________\ngru (GRU)                    (None, 64)                24960     \n_________________________________________________________________\nOutput (Dense)               (None, 8)                 520       \n=================================================================\nTotal params: 37,896\nTrainable params: 37,896\nNon-trainable params: 0\n_________________________________________________________________\n"
     ]
    }
   ],
   "source": [
    "inputs = layers.Input(shape=input_shape)\n",
    "x = inputs\n",
    "x = layers.TimeDistributed(layers.Flatten())(x)\n",
    "x = layers.TimeDistributed(layers.Dropout(0.5))(x)\n",
    "x = layers.TimeDistributed(layers.Dense(64, activation='relu'))(x)\n",
    "x = layers.TimeDistributed(layers.Dropout(0.5))(x)\n",
    "x = layers.TimeDistributed(layers.Dense(64, activation='relu'))(x)\n",
    "x = layers.TimeDistributed(layers.Dropout(0.3))(x)\n",
    "x = layers.TimeDistributed(layers.Dense(64, activation='relu'))(x)\n",
    "x = layers.TimeDistributed(layers.Dropout(0.2))(x)\n",
    "x = layers.GRU(64)(x)\n",
    "output = layers.Dense(classes, activation='softmax',name='Output')(x)\n",
    "model = keras.models.Model(inputs, output)\n",
    "model.compile(optimizer='adam',\n",
    "              loss=tf.keras.losses.CategoricalCrossentropy(),\n",
    "              metrics=['accuracy'])\n",
    "model.summary()"
   ]
  },
  {
   "cell_type": "code",
   "execution_count": 6,
   "metadata": {},
   "outputs": [
    {
     "output_type": "stream",
     "name": "stdout",
     "text": [
      "Epoch 1/50\n",
      "45/45 [==============================] - 4s 8ms/step - loss: 1.9544 - accuracy: 0.2167\n",
      "Epoch 2/50\n",
      "45/45 [==============================] - 0s 7ms/step - loss: 0.9312 - accuracy: 0.7156\n",
      "Epoch 3/50\n",
      "45/45 [==============================] - 0s 6ms/step - loss: 0.2807 - accuracy: 0.9188\n",
      "Epoch 4/50\n",
      "45/45 [==============================] - 0s 10ms/step - loss: 0.1501 - accuracy: 0.9542\n",
      "Epoch 5/50\n",
      "45/45 [==============================] - 0s 6ms/step - loss: 0.1016 - accuracy: 0.9713\n",
      "Epoch 6/50\n",
      "45/45 [==============================] - 0s 6ms/step - loss: 0.0941 - accuracy: 0.9750\n",
      "Epoch 7/50\n",
      "45/45 [==============================] - 0s 7ms/step - loss: 0.0747 - accuracy: 0.9787\n",
      "Epoch 8/50\n",
      "45/45 [==============================] - 0s 7ms/step - loss: 0.0590 - accuracy: 0.9833\n",
      "Epoch 9/50\n",
      "45/45 [==============================] - 0s 6ms/step - loss: 0.0581 - accuracy: 0.9850\n",
      "Epoch 10/50\n",
      "45/45 [==============================] - 0s 7ms/step - loss: 0.0419 - accuracy: 0.9883\n",
      "Epoch 11/50\n",
      "45/45 [==============================] - 0s 7ms/step - loss: 0.0447 - accuracy: 0.9892\n",
      "Epoch 12/50\n",
      "45/45 [==============================] - 0s 6ms/step - loss: 0.0417 - accuracy: 0.9890\n",
      "Epoch 13/50\n",
      "45/45 [==============================] - 0s 7ms/step - loss: 0.0340 - accuracy: 0.9919\n",
      "Epoch 14/50\n",
      "45/45 [==============================] - 0s 7ms/step - loss: 0.0369 - accuracy: 0.9882\n",
      "Epoch 15/50\n",
      "45/45 [==============================] - 0s 6ms/step - loss: 0.0300 - accuracy: 0.9934\n",
      "Epoch 16/50\n",
      "45/45 [==============================] - 0s 7ms/step - loss: 0.0349 - accuracy: 0.9907\n",
      "Epoch 17/50\n",
      "45/45 [==============================] - 0s 7ms/step - loss: 0.0285 - accuracy: 0.9922\n",
      "Epoch 18/50\n",
      "45/45 [==============================] - 0s 7ms/step - loss: 0.0265 - accuracy: 0.9954\n",
      "Epoch 19/50\n",
      "45/45 [==============================] - 0s 7ms/step - loss: 0.0191 - accuracy: 0.9948\n",
      "Epoch 20/50\n",
      "45/45 [==============================] - 0s 7ms/step - loss: 0.0207 - accuracy: 0.9932\n",
      "Epoch 21/50\n",
      "45/45 [==============================] - 0s 7ms/step - loss: 0.0216 - accuracy: 0.9958\n",
      "Epoch 22/50\n",
      "45/45 [==============================] - 0s 7ms/step - loss: 0.0284 - accuracy: 0.9928\n",
      "Epoch 23/50\n",
      "45/45 [==============================] - 0s 6ms/step - loss: 0.0126 - accuracy: 0.9983\n",
      "Epoch 24/50\n",
      "45/45 [==============================] - 0s 6ms/step - loss: 0.0174 - accuracy: 0.9966\n",
      "Epoch 25/50\n",
      "45/45 [==============================] - 0s 7ms/step - loss: 0.0243 - accuracy: 0.9939\n",
      "Epoch 26/50\n",
      "45/45 [==============================] - 0s 7ms/step - loss: 0.0209 - accuracy: 0.9943\n",
      "Epoch 27/50\n",
      "45/45 [==============================] - 0s 7ms/step - loss: 0.0144 - accuracy: 0.9972\n",
      "Epoch 28/50\n",
      "45/45 [==============================] - 0s 6ms/step - loss: 0.0213 - accuracy: 0.9950\n",
      "Epoch 29/50\n",
      "45/45 [==============================] - 0s 6ms/step - loss: 0.0149 - accuracy: 0.9963\n",
      "Epoch 30/50\n",
      "45/45 [==============================] - 0s 7ms/step - loss: 0.0177 - accuracy: 0.9964\n",
      "Epoch 31/50\n",
      "45/45 [==============================] - 0s 7ms/step - loss: 0.0241 - accuracy: 0.9949\n",
      "Epoch 32/50\n",
      "45/45 [==============================] - 0s 6ms/step - loss: 0.0218 - accuracy: 0.9939\n",
      "Epoch 33/50\n",
      "45/45 [==============================] - 0s 7ms/step - loss: 0.0183 - accuracy: 0.9946\n",
      "Epoch 34/50\n",
      "45/45 [==============================] - 0s 7ms/step - loss: 0.0081 - accuracy: 0.9989\n",
      "Epoch 35/50\n",
      "45/45 [==============================] - 0s 7ms/step - loss: 0.0132 - accuracy: 0.9973\n",
      "Epoch 36/50\n",
      "45/45 [==============================] - 0s 7ms/step - loss: 0.0173 - accuracy: 0.9952\n",
      "Epoch 37/50\n",
      "45/45 [==============================] - 0s 7ms/step - loss: 0.0280 - accuracy: 0.9917\n",
      "Epoch 38/50\n",
      "45/45 [==============================] - 0s 6ms/step - loss: 0.0195 - accuracy: 0.9946\n",
      "Epoch 39/50\n",
      "45/45 [==============================] - 0s 7ms/step - loss: 0.0154 - accuracy: 0.9946\n",
      "Epoch 40/50\n",
      "45/45 [==============================] - 0s 7ms/step - loss: 0.0120 - accuracy: 0.9960\n",
      "Epoch 41/50\n",
      "45/45 [==============================] - 0s 7ms/step - loss: 0.0101 - accuracy: 0.9967\n",
      "Epoch 42/50\n",
      "45/45 [==============================] - 0s 6ms/step - loss: 0.0119 - accuracy: 0.9973\n",
      "Epoch 43/50\n",
      "45/45 [==============================] - 0s 6ms/step - loss: 0.0145 - accuracy: 0.9966\n",
      "Epoch 44/50\n",
      "45/45 [==============================] - 0s 7ms/step - loss: 0.0174 - accuracy: 0.9966\n",
      "Epoch 45/50\n",
      "45/45 [==============================] - 0s 7ms/step - loss: 0.0160 - accuracy: 0.9968\n",
      "Epoch 46/50\n",
      "45/45 [==============================] - 0s 6ms/step - loss: 0.0116 - accuracy: 0.9964\n",
      "Epoch 47/50\n",
      "45/45 [==============================] - 0s 7ms/step - loss: 0.0153 - accuracy: 0.9961\n",
      "Epoch 48/50\n",
      "45/45 [==============================] - 0s 7ms/step - loss: 0.0165 - accuracy: 0.9963\n",
      "Epoch 49/50\n",
      "45/45 [==============================] - 0s 7ms/step - loss: 0.0111 - accuracy: 0.9968\n",
      "Epoch 50/50\n",
      "45/45 [==============================] - 0s 7ms/step - loss: 0.0138 - accuracy: 0.9972\n"
     ]
    },
    {
     "output_type": "execute_result",
     "data": {
      "text/plain": [
       "<tensorflow.python.keras.callbacks.History at 0x29a095d1f40>"
      ]
     },
     "metadata": {},
     "execution_count": 6
    }
   ],
   "source": [
    "model.fit(trainGen,epochs=epochs)"
   ]
  },
  {
   "cell_type": "code",
   "execution_count": 7,
   "metadata": {},
   "outputs": [
    {
     "output_type": "stream",
     "name": "stderr",
     "text": [
      "WARNING:absl:Found untraced functions such as gru_cell_layer_call_and_return_conditional_losses, gru_cell_layer_call_fn, gru_cell_layer_call_fn, gru_cell_layer_call_and_return_conditional_losses, gru_cell_layer_call_and_return_conditional_losses while saving (showing 5 of 5). These functions will not be directly callable after loading.\n",
      "WARNING:absl:Found untraced functions such as gru_cell_layer_call_and_return_conditional_losses, gru_cell_layer_call_fn, gru_cell_layer_call_fn, gru_cell_layer_call_and_return_conditional_losses, gru_cell_layer_call_and_return_conditional_losses while saving (showing 5 of 5). These functions will not be directly callable after loading.\n",
      "INFO:tensorflow:Assets written to: C:\\Users\\17ami\\AppData\\Local\\Temp\\tmp3ff81726\\assets\n",
      "INFO:tensorflow:Assets written to: C:\\Users\\17ami\\AppData\\Local\\Temp\\tmp3ff81726\\assets\n"
     ]
    }
   ],
   "source": [
    "converter = tf.lite.TFLiteConverter.from_keras_model(model)\n",
    "converter.optimizations = [tf.lite.Optimize.DEFAULT]\n",
    "tfliteModel = converter.convert()\n",
    "modelPath = \"saved_models/MODEL-{}.tflite\".format(datetime.datetime.now().strftime(\"%Y-%m-%d-%H-%M-%S\"))\n",
    "with open(modelPath, 'wb') as f:\n",
    "  f.write(tfliteModel)"
   ]
  },
  {
   "cell_type": "code",
   "execution_count": null,
   "metadata": {},
   "outputs": [],
   "source": []
  }
 ]
}