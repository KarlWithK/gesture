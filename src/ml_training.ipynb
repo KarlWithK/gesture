{
 "metadata": {
  "language_info": {
   "codemirror_mode": {
    "name": "ipython",
    "version": 3
   },
   "file_extension": ".py",
   "mimetype": "text/x-python",
   "name": "python",
   "nbconvert_exporter": "python",
   "pygments_lexer": "ipython3",
   "version": "3.8.0"
  },
  "orig_nbformat": 2,
  "kernelspec": {
   "name": "python380jvsc74a57bd05c1ac09176b748141153a47c245b8a5495a009cc24db9edc50099788c2469e5b",
   "display_name": "Python 3.8.0 64-bit"
  }
 },
 "nbformat": 4,
 "nbformat_minor": 2,
 "cells": [
  {
   "cell_type": "code",
   "execution_count": 16,
   "metadata": {},
   "outputs": [],
   "source": [
    "import tensorflow as tf\n",
    "physicalDevices = tf.config.list_physical_devices('GPU') \n",
    "if physicalDevices:\n",
    "    tf.config.experimental.set_memory_growth(physicalDevices[0], True)\n",
    "from tensorflow import keras\n",
    "from tensorflow.keras import layers\n",
    "from data_preprocessor import DataGenerator\n",
    "\n",
    "import datetime"
   ]
  },
  {
   "cell_type": "code",
   "execution_count": 17,
   "metadata": {},
   "outputs": [],
   "source": [
    "batchSize=32\n",
    "epochs=10\n",
    "inputShape = (20,21,3)\n",
    "classes = 5\n",
    "trainGen = DataGenerator('gesture_dataset.h5')"
   ]
  },
  {
   "cell_type": "code",
   "execution_count": 20,
   "metadata": {},
   "outputs": [
    {
     "output_type": "stream",
     "name": "stdout",
     "text": [
      "Model: \"model\"\n_________________________________________________________________\nLayer (type)                 Output Shape              Param #   \n=================================================================\ninput_1 (InputLayer)         [(None, 20, 21, 3)]       0         \n_________________________________________________________________\ntime_distributed (TimeDistri (None, 20, 63)            0         \n_________________________________________________________________\ntime_distributed_1 (TimeDist (None, 20, 63)            0         \n_________________________________________________________________\ntime_distributed_2 (TimeDist (None, 20, 64)            4096      \n_________________________________________________________________\ntime_distributed_3 (TimeDist (None, 20, 64)            0         \n_________________________________________________________________\ntime_distributed_4 (TimeDist (None, 20, 64)            4160      \n_________________________________________________________________\ntime_distributed_5 (TimeDist (None, 20, 64)            0         \n_________________________________________________________________\ntime_distributed_6 (TimeDist (None, 20, 64)            4160      \n_________________________________________________________________\ntime_distributed_7 (TimeDist (None, 20, 64)            0         \n_________________________________________________________________\ngru (GRU)                    (None, 32)                9408      \n_________________________________________________________________\nOutput (Dense)               (None, 5)                 165       \n=================================================================\nTotal params: 21,989\nTrainable params: 21,989\nNon-trainable params: 0\n_________________________________________________________________\n"
     ]
    }
   ],
   "source": [
    "inputs = layers.Input(shape=input_shape)\n",
    "x = inputs\n",
    "x = layers.TimeDistributed(layers.Flatten())(x)\n",
    "x = layers.TimeDistributed(layers.Dropout(0.5))(x)\n",
    "x = layers.TimeDistributed(layers.Dense(64, activation='relu'))(x)\n",
    "x = layers.TimeDistributed(layers.Dropout(0.2))(x)\n",
    "x = layers.TimeDistributed(layers.Dense(64, activation='relu'))(x)\n",
    "x = layers.TimeDistributed(layers.Dropout(0.2))(x)\n",
    "x = layers.TimeDistributed(layers.Dense(64, activation='relu'))(x)\n",
    "x = layers.TimeDistributed(layers.Dropout(0.2))(x)\n",
    "x = layers.GRU(32)(x)\n",
    "output = layers.Dense(classes, activation='softmax',name='Output')(x)\n",
    "model = keras.models.Model(inputs, output)\n",
    "model.compile(optimizer='adam',\n",
    "              loss=tf.keras.losses.CategoricalCrossentropy(),\n",
    "              metrics=['accuracy'])\n",
    "model.summary()"
   ]
  },
  {
   "cell_type": "code",
   "execution_count": 21,
   "metadata": {},
   "outputs": [
    {
     "output_type": "stream",
     "name": "stdout",
     "text": [
      "Epoch 1/10\n",
      "18/18 [==============================] - 6s 17ms/step - loss: 1.5280 - accuracy: 0.4303\n",
      "Epoch 2/10\n",
      "18/18 [==============================] - 0s 17ms/step - loss: 1.0288 - accuracy: 0.8325\n",
      "Epoch 3/10\n",
      "18/18 [==============================] - 0s 16ms/step - loss: 0.4799 - accuracy: 0.8472\n",
      "Epoch 4/10\n",
      "18/18 [==============================] - 0s 16ms/step - loss: 0.2887 - accuracy: 0.9279\n",
      "Epoch 5/10\n",
      "18/18 [==============================] - 0s 17ms/step - loss: 0.2189 - accuracy: 0.9557\n",
      "Epoch 6/10\n",
      "18/18 [==============================] - 0s 18ms/step - loss: 0.1562 - accuracy: 0.9673\n",
      "Epoch 7/10\n",
      "18/18 [==============================] - 0s 17ms/step - loss: 0.0934 - accuracy: 0.9829\n",
      "Epoch 8/10\n",
      "18/18 [==============================] - 0s 20ms/step - loss: 0.0539 - accuracy: 0.9886\n",
      "Epoch 9/10\n",
      "18/18 [==============================] - 0s 16ms/step - loss: 0.0565 - accuracy: 0.9887\n",
      "Epoch 10/10\n",
      "18/18 [==============================] - 0s 17ms/step - loss: 0.0477 - accuracy: 0.9962\n"
     ]
    },
    {
     "output_type": "execute_result",
     "data": {
      "text/plain": [
       "<tensorflow.python.keras.callbacks.History at 0x18b3f24c190>"
      ]
     },
     "metadata": {},
     "execution_count": 21
    }
   ],
   "source": [
    "model.fit_generator(generator=trainGen,epochs=epochs)"
   ]
  },
  {
   "cell_type": "code",
   "execution_count": 11,
   "metadata": {},
   "outputs": [
    {
     "output_type": "stream",
     "name": "stderr",
     "text": [
      "WARNING:absl:Found untraced functions such as lstm_cell_layer_call_and_return_conditional_losses, lstm_cell_layer_call_fn, lstm_cell_layer_call_fn, lstm_cell_layer_call_and_return_conditional_losses, lstm_cell_layer_call_and_return_conditional_losses while saving (showing 5 of 5). These functions will not be directly callable after loading.\n",
      "WARNING:absl:Found untraced functions such as lstm_cell_layer_call_and_return_conditional_losses, lstm_cell_layer_call_fn, lstm_cell_layer_call_fn, lstm_cell_layer_call_and_return_conditional_losses, lstm_cell_layer_call_and_return_conditional_losses while saving (showing 5 of 5). These functions will not be directly callable after loading.\n",
      "INFO:tensorflow:Assets written to: saved_models/MODEL-2021-05-24-21-43-34\\assets\n",
      "INFO:tensorflow:Assets written to: saved_models/MODEL-2021-05-24-21-43-34\\assets\n"
     ]
    }
   ],
   "source": [
    "model.save(\"saved_models/MODEL-{}\".format(datetime.datetime.now().strftime(\"%Y-%m-%d-%H-%M-%S\")), save_format = \"tf\")"
   ]
  },
  {
   "cell_type": "code",
   "execution_count": null,
   "metadata": {},
   "outputs": [],
   "source": []
  }
 ]
}