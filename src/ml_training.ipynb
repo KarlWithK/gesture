{
 "metadata": {
  "language_info": {
   "codemirror_mode": {
    "name": "ipython",
    "version": 3
   },
   "file_extension": ".py",
   "mimetype": "text/x-python",
   "name": "python",
   "nbconvert_exporter": "python",
   "pygments_lexer": "ipython3",
   "version": "3.8.8"
  },
  "orig_nbformat": 2,
  "kernelspec": {
   "name": "python388jvsc74a57bd02db524e06e9f5f4ffedc911c917cb75e12dbc923643829bf417064a77eb14d37",
   "display_name": "Python 3.8.8 64-bit"
  }
 },
 "nbformat": 4,
 "nbformat_minor": 2,
 "cells": [
  {
   "cell_type": "code",
   "execution_count": 1,
   "metadata": {},
   "outputs": [],
   "source": [
    "import tensorflow as tf\n",
    "physical_devices = tf.config.list_physical_devices('GPU') \n",
    "if len(physical_devices[0])>0:\n",
    "    tf.config.experimental.set_memory_growth(physical_devices[0], True)\n",
    "from tensorflow import keras\n",
    "from tensorflow.keras import layers\n",
    "from data_preprocessor import DataGenerator, GESTURES\n",
    "\n",
    "import datetime"
   ]
  },
  {
   "cell_type": "code",
   "execution_count": 6,
   "metadata": {},
   "outputs": [],
   "source": [
    "batch_size=64\n",
    "epochs=30\n",
    "input_shape = (20,21,3)\n",
    "classes = len(GESTURES)\n",
    "train_gen = DataGenerator('gesture_dataset.h5')"
   ]
  },
  {
   "cell_type": "code",
   "execution_count": 7,
   "metadata": {},
   "outputs": [
    {
     "output_type": "stream",
     "name": "stdout",
     "text": [
      "Model: \"model_1\"\n_________________________________________________________________\nLayer (type)                 Output Shape              Param #   \n=================================================================\ninput_2 (InputLayer)         [(None, 20, 21, 3)]       0         \n_________________________________________________________________\ntime_distributed_8 (TimeDist (None, 20, 63)            0         \n_________________________________________________________________\ntime_distributed_9 (TimeDist (None, 20, 63)            0         \n_________________________________________________________________\ntime_distributed_10 (TimeDis (None, 20, 64)            4096      \n_________________________________________________________________\ntime_distributed_11 (TimeDis (None, 20, 64)            0         \n_________________________________________________________________\ntime_distributed_12 (TimeDis (None, 20, 64)            4160      \n_________________________________________________________________\ntime_distributed_13 (TimeDis (None, 20, 64)            0         \n_________________________________________________________________\ntime_distributed_14 (TimeDis (None, 20, 64)            4160      \n_________________________________________________________________\ntime_distributed_15 (TimeDis (None, 20, 64)            0         \n_________________________________________________________________\ngru_1 (GRU)                  (None, 32)                9408      \n_________________________________________________________________\nOutput (Dense)               (None, 7)                 231       \n=================================================================\nTotal params: 22,055\nTrainable params: 22,055\nNon-trainable params: 0\n_________________________________________________________________\n"
     ]
    }
   ],
   "source": [
    "inputs = layers.Input(shape=input_shape)\n",
    "x = inputs\n",
    "x = layers.TimeDistributed(layers.Flatten())(x)\n",
    "x = layers.TimeDistributed(layers.Dropout(0.5))(x)\n",
    "x = layers.TimeDistributed(layers.Dense(64, activation='relu'))(x)\n",
    "x = layers.TimeDistributed(layers.Dropout(0.2))(x)\n",
    "x = layers.TimeDistributed(layers.Dense(64, activation='relu'))(x)\n",
    "x = layers.TimeDistributed(layers.Dropout(0.2))(x)\n",
    "x = layers.TimeDistributed(layers.Dense(64, activation='relu'))(x)\n",
    "x = layers.TimeDistributed(layers.Dropout(0.2))(x)\n",
    "x = layers.GRU(32)(x)\n",
    "output = layers.Dense(classes, activation='softmax',name='Output')(x)\n",
    "model = keras.models.Model(inputs, output)\n",
    "model.compile(optimizer='adam',\n",
    "              loss=tf.keras.losses.CategoricalCrossentropy(),\n",
    "              metrics=['accuracy'])\n",
    "model.summary()"
   ]
  },
  {
   "cell_type": "code",
   "execution_count": 8,
   "metadata": {},
   "outputs": [
    {
     "output_type": "stream",
     "name": "stderr",
     "text": [
      "C:\\Python38\\lib\\site-packages\\tensorflow\\python\\keras\\engine\\training.py:1844: UserWarning: `Model.fit_generator` is deprecated and will be removed in a future version. Please use `Model.fit`, which supports generators.\n",
      "  warnings.warn('`Model.fit_generator` is deprecated and '\n",
      "Epoch 1/30\n",
      "24/24 [==============================] - 3s 8ms/step - loss: 1.8455 - accuracy: 0.2019\n",
      "Epoch 2/30\n",
      "24/24 [==============================] - 0s 8ms/step - loss: 1.3871 - accuracy: 0.5623\n",
      "Epoch 3/30\n",
      "24/24 [==============================] - 0s 8ms/step - loss: 0.8753 - accuracy: 0.6892\n",
      "Epoch 4/30\n",
      "24/24 [==============================] - 0s 8ms/step - loss: 0.7119 - accuracy: 0.7050\n",
      "Epoch 5/30\n",
      "24/24 [==============================] - 0s 8ms/step - loss: 0.6197 - accuracy: 0.7629\n",
      "Epoch 6/30\n",
      "24/24 [==============================] - 0s 7ms/step - loss: 0.5746 - accuracy: 0.7559\n",
      "Epoch 7/30\n",
      "24/24 [==============================] - 0s 9ms/step - loss: 0.5011 - accuracy: 0.8091\n",
      "Epoch 8/30\n",
      "24/24 [==============================] - 0s 8ms/step - loss: 0.4215 - accuracy: 0.8356\n",
      "Epoch 9/30\n",
      "24/24 [==============================] - 0s 7ms/step - loss: 0.3634 - accuracy: 0.8500\n",
      "Epoch 10/30\n",
      "24/24 [==============================] - 0s 7ms/step - loss: 0.3266 - accuracy: 0.8774\n",
      "Epoch 11/30\n",
      "24/24 [==============================] - 0s 6ms/step - loss: 0.2617 - accuracy: 0.9250\n",
      "Epoch 12/30\n",
      "24/24 [==============================] - 0s 6ms/step - loss: 0.2092 - accuracy: 0.9332\n",
      "Epoch 13/30\n",
      "24/24 [==============================] - 0s 6ms/step - loss: 0.1606 - accuracy: 0.9621\n",
      "Epoch 14/30\n",
      "24/24 [==============================] - 0s 6ms/step - loss: 0.1083 - accuracy: 0.9741\n",
      "Epoch 15/30\n",
      "24/24 [==============================] - 0s 7ms/step - loss: 0.0952 - accuracy: 0.9839\n",
      "Epoch 16/30\n",
      "24/24 [==============================] - 0s 7ms/step - loss: 0.0938 - accuracy: 0.9784\n",
      "Epoch 17/30\n",
      "24/24 [==============================] - 0s 7ms/step - loss: 0.0798 - accuracy: 0.9876\n",
      "Epoch 18/30\n",
      "24/24 [==============================] - 0s 7ms/step - loss: 0.0826 - accuracy: 0.9865\n",
      "Epoch 19/30\n",
      "24/24 [==============================] - 0s 6ms/step - loss: 0.0558 - accuracy: 0.9821\n",
      "Epoch 20/30\n",
      "24/24 [==============================] - 0s 6ms/step - loss: 0.0972 - accuracy: 0.9844\n",
      "Epoch 21/30\n",
      "24/24 [==============================] - 0s 7ms/step - loss: 0.0623 - accuracy: 0.9922\n",
      "Epoch 22/30\n",
      "24/24 [==============================] - 0s 6ms/step - loss: 0.0525 - accuracy: 0.9916\n",
      "Epoch 23/30\n",
      "24/24 [==============================] - 0s 7ms/step - loss: 0.0774 - accuracy: 0.9791\n",
      "Epoch 24/30\n",
      "24/24 [==============================] - 0s 7ms/step - loss: 0.0593 - accuracy: 0.9846\n",
      "Epoch 25/30\n",
      "24/24 [==============================] - 0s 6ms/step - loss: 0.0391 - accuracy: 0.9898\n",
      "Epoch 26/30\n",
      "24/24 [==============================] - 0s 6ms/step - loss: 0.0592 - accuracy: 0.9910\n",
      "Epoch 27/30\n",
      "24/24 [==============================] - 0s 6ms/step - loss: 0.0755 - accuracy: 0.9864\n",
      "Epoch 28/30\n",
      "24/24 [==============================] - 0s 7ms/step - loss: 0.0387 - accuracy: 0.9915\n",
      "Epoch 29/30\n",
      "24/24 [==============================] - 0s 6ms/step - loss: 0.0549 - accuracy: 0.9858\n",
      "Epoch 30/30\n",
      "24/24 [==============================] - 0s 7ms/step - loss: 0.0464 - accuracy: 0.9886\n"
     ]
    },
    {
     "output_type": "execute_result",
     "data": {
      "text/plain": [
       "<tensorflow.python.keras.callbacks.History at 0x26be5b07fa0>"
      ]
     },
     "metadata": {},
     "execution_count": 8
    }
   ],
   "source": [
    "model.fit_generator(generator=train_gen,epochs=epochs)"
   ]
  },
  {
   "cell_type": "code",
   "execution_count": 9,
   "metadata": {},
   "outputs": [
    {
     "output_type": "stream",
     "name": "stderr",
     "text": [
      "WARNING:absl:Found untraced functions such as gru_cell_1_layer_call_and_return_conditional_losses, gru_cell_1_layer_call_fn, gru_cell_1_layer_call_fn, gru_cell_1_layer_call_and_return_conditional_losses, gru_cell_1_layer_call_and_return_conditional_losses while saving (showing 5 of 5). These functions will not be directly callable after loading.\n",
      "WARNING:absl:Found untraced functions such as gru_cell_1_layer_call_and_return_conditional_losses, gru_cell_1_layer_call_fn, gru_cell_1_layer_call_fn, gru_cell_1_layer_call_and_return_conditional_losses, gru_cell_1_layer_call_and_return_conditional_losses while saving (showing 5 of 5). These functions will not be directly callable after loading.\n",
      "INFO:tensorflow:Assets written to: saved_models/MODEL-2021-05-24-21-27-14\\assets\n",
      "INFO:tensorflow:Assets written to: saved_models/MODEL-2021-05-24-21-27-14\\assets\n"
     ]
    }
   ],
   "source": [
    "model.save(\"saved_models/MODEL-{}\".format(datetime.datetime.now().strftime(\"%Y-%m-%d-%H-%M-%S\")), save_format = \"tf\")"
   ]
  },
  {
   "cell_type": "code",
   "execution_count": null,
   "metadata": {},
   "outputs": [],
   "source": []
  }
 ]
}