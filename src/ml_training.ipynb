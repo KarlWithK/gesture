{
 "metadata": {
  "language_info": {
   "codemirror_mode": {
    "name": "ipython",
    "version": 3
   },
   "file_extension": ".py",
   "mimetype": "text/x-python",
   "name": "python",
   "nbconvert_exporter": "python",
   "pygments_lexer": "ipython3",
   "version": "3.8.8"
  },
  "orig_nbformat": 2,
  "kernelspec": {
   "name": "python388jvsc74a57bd02db524e06e9f5f4ffedc911c917cb75e12dbc923643829bf417064a77eb14d37",
   "display_name": "Python 3.8.8 64-bit"
  }
 },
 "nbformat": 4,
 "nbformat_minor": 2,
 "cells": [
  {
   "cell_type": "code",
   "execution_count": 4,
   "metadata": {},
   "outputs": [],
   "source": [
    "import tensorflow as tf\n",
    "physical_devices = tf.config.list_physical_devices('GPU') \n",
    "if len(physical_devices[0])>0:\n",
    "    tf.config.experimental.set_memory_growth(physical_devices[0], True)\n",
    "from tensorflow import keras\n",
    "from tensorflow.keras import layers\n",
    "from data_preprocessor import DataGenerator\n",
    "\n",
    "import datetime"
   ]
  },
  {
   "cell_type": "code",
   "execution_count": 2,
   "metadata": {},
   "outputs": [],
   "source": [
    "batch_size=32\n",
    "epochs=10\n",
    "input_shape = (20,21,3)\n",
    "classes = 5\n",
    "train_gen = DataGenerator('gesture_dataset.h5')"
   ]
  },
  {
   "cell_type": "code",
   "execution_count": 5,
   "metadata": {},
   "outputs": [
    {
     "output_type": "stream",
     "name": "stdout",
     "text": [
      "Model: \"model\"\n_________________________________________________________________\nLayer (type)                 Output Shape              Param #   \n=================================================================\ninput_1 (InputLayer)         [(None, 20, 21, 3)]       0         \n_________________________________________________________________\ntime_distributed (TimeDistri (None, 20, 63)            0         \n_________________________________________________________________\ntime_distributed_1 (TimeDist (None, 20, 63)            0         \n_________________________________________________________________\ntime_distributed_2 (TimeDist (None, 20, 64)            4096      \n_________________________________________________________________\ntime_distributed_3 (TimeDist (None, 20, 64)            0         \n_________________________________________________________________\ntime_distributed_4 (TimeDist (None, 20, 64)            4160      \n_________________________________________________________________\ntime_distributed_5 (TimeDist (None, 20, 64)            0         \n_________________________________________________________________\ntime_distributed_6 (TimeDist (None, 20, 64)            4160      \n_________________________________________________________________\ntime_distributed_7 (TimeDist (None, 20, 64)            0         \n_________________________________________________________________\ngru (GRU)                    (None, 32)                9408      \n_________________________________________________________________\nOutput (Dense)               (None, 5)                 165       \n=================================================================\nTotal params: 21,989\nTrainable params: 21,989\nNon-trainable params: 0\n_________________________________________________________________\n"
     ]
    }
   ],
   "source": [
    "inputs = layers.Input(shape=input_shape)\n",
    "x = inputs\n",
    "x = layers.TimeDistributed(layers.Flatten())(x)\n",
    "x = layers.TimeDistributed(layers.Dropout(0.5))(x)\n",
    "x = layers.TimeDistributed(layers.Dense(64, activation='relu'))(x)\n",
    "x = layers.TimeDistributed(layers.Dropout(0.2))(x)\n",
    "x = layers.TimeDistributed(layers.Dense(64, activation='relu'))(x)\n",
    "x = layers.TimeDistributed(layers.Dropout(0.2))(x)\n",
    "x = layers.TimeDistributed(layers.Dense(64, activation='relu'))(x)\n",
    "x = layers.TimeDistributed(layers.Dropout(0.2))(x)\n",
    "x = layers.GRU(32)(x)\n",
    "output = layers.Dense(classes, activation='softmax',name='Output')(x)\n",
    "model = keras.models.Model(inputs, output)\n",
    "model.compile(optimizer='adam',\n",
    "              loss=tf.keras.losses.CategoricalCrossentropy(),\n",
    "              metrics=['accuracy'])\n",
    "model.summary()"
   ]
  },
  {
   "cell_type": "code",
   "execution_count": 6,
   "metadata": {},
   "outputs": [
    {
     "output_type": "stream",
     "name": "stderr",
     "text": [
      "C:\\Python38\\lib\\site-packages\\tensorflow\\python\\keras\\engine\\training.py:1844: UserWarning: `Model.fit_generator` is deprecated and will be removed in a future version. Please use `Model.fit`, which supports generators.\n",
      "  warnings.warn('`Model.fit_generator` is deprecated and '\n",
      "Epoch 1/10\n",
      "18/18 [==============================] - 12s 7ms/step - loss: 1.5533 - accuracy: 0.2558\n",
      "Epoch 2/10\n",
      "18/18 [==============================] - 0s 7ms/step - loss: 1.1803 - accuracy: 0.7838\n",
      "Epoch 3/10\n",
      "18/18 [==============================] - 0s 6ms/step - loss: 0.6023 - accuracy: 0.8778\n",
      "Epoch 4/10\n",
      "18/18 [==============================] - 0s 6ms/step - loss: 0.2687 - accuracy: 0.9466\n",
      "Epoch 5/10\n",
      "18/18 [==============================] - 0s 6ms/step - loss: 0.1406 - accuracy: 0.9745\n",
      "Epoch 6/10\n",
      "18/18 [==============================] - 0s 6ms/step - loss: 0.0938 - accuracy: 0.9751\n",
      "Epoch 7/10\n",
      "18/18 [==============================] - 0s 6ms/step - loss: 0.0903 - accuracy: 0.9787\n",
      "Epoch 8/10\n",
      "18/18 [==============================] - 0s 7ms/step - loss: 0.0524 - accuracy: 0.9856\n",
      "Epoch 9/10\n",
      "18/18 [==============================] - 0s 7ms/step - loss: 0.0621 - accuracy: 0.9810\n",
      "Epoch 10/10\n",
      "18/18 [==============================] - 0s 7ms/step - loss: 0.0383 - accuracy: 0.9895\n"
     ]
    },
    {
     "output_type": "execute_result",
     "data": {
      "text/plain": [
       "<tensorflow.python.keras.callbacks.History at 0x21d03853880>"
      ]
     },
     "metadata": {},
     "execution_count": 6
    }
   ],
   "source": [
    "model.fit_generator(generator=train_gen,epochs=epochs)"
   ]
  },
  {
   "cell_type": "code",
   "execution_count": 8,
   "metadata": {},
   "outputs": [
    {
     "output_type": "stream",
     "name": "stderr",
     "text": [
      "WARNING:absl:Found untraced functions such as gru_cell_layer_call_and_return_conditional_losses, gru_cell_layer_call_fn, gru_cell_layer_call_fn, gru_cell_layer_call_and_return_conditional_losses, gru_cell_layer_call_and_return_conditional_losses while saving (showing 5 of 5). These functions will not be directly callable after loading.\n",
      "WARNING:absl:Found untraced functions such as gru_cell_layer_call_and_return_conditional_losses, gru_cell_layer_call_fn, gru_cell_layer_call_fn, gru_cell_layer_call_and_return_conditional_losses, gru_cell_layer_call_and_return_conditional_losses while saving (showing 5 of 5). These functions will not be directly callable after loading.\n",
      "INFO:tensorflow:Assets written to: saved_models/MODEL-2021-05-24-18-38-48\\assets\n",
      "INFO:tensorflow:Assets written to: saved_models/MODEL-2021-05-24-18-38-48\\assets\n"
     ]
    }
   ],
   "source": [
    "model.save(\"saved_models/MODEL-{}\".format(datetime.datetime.now().strftime(\"%Y-%m-%d-%H-%M-%S\")), save_format = \"tf\")"
   ]
  },
  {
   "cell_type": "code",
   "execution_count": null,
   "metadata": {},
   "outputs": [],
   "source": []
  }
 ]
}