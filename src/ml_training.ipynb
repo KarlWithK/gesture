{
 "metadata": {
  "language_info": {
   "codemirror_mode": {
    "name": "ipython",
    "version": 3
   },
   "file_extension": ".py",
   "mimetype": "text/x-python",
   "name": "python",
   "nbconvert_exporter": "python",
   "pygments_lexer": "ipython3",
   "version": "3.8.8"
  },
  "orig_nbformat": 2,
  "kernelspec": {
   "name": "python388jvsc74a57bd02db524e06e9f5f4ffedc911c917cb75e12dbc923643829bf417064a77eb14d37",
   "display_name": "Python 3.8.8 64-bit"
  }
 },
 "nbformat": 4,
 "nbformat_minor": 2,
 "cells": [
  {
   "cell_type": "code",
   "execution_count": 1,
   "metadata": {},
   "outputs": [],
   "source": [
    "import tensorflow as tf\n",
    "physicalDevices = tf.config.list_physical_devices('GPU') \n",
    "if physicalDevices:\n",
    "    tf.config.experimental.set_memory_growth(physicalDevices[0], True)  \n",
    "from tensorflow import keras\n",
    "from tensorflow.keras import layers\n",
    "from data_preprocessor import DataGenerator\n",
    "from gestures import GESTURES\n",
    "\n",
    "\n",
    "import datetime"
   ]
  },
  {
   "cell_type": "code",
   "execution_count": 2,
   "metadata": {},
   "outputs": [],
   "source": [
    "batch_size=64\n",
    "epochs=30\n",
    "input_shape = (20,21,3)\n",
    "classes = len(GESTURES)\n",
    "trainGen = DataGenerator('gesture_dataset.h5',batchSize=batch_size, dim=input_shape)"
   ]
  },
  {
   "cell_type": "code",
   "execution_count": 3,
   "metadata": {},
   "outputs": [
    {
     "output_type": "stream",
     "name": "stdout",
     "text": [
      "Model: \"model\"\n_________________________________________________________________\nLayer (type)                 Output Shape              Param #   \n=================================================================\ninput_1 (InputLayer)         [(None, 20, 21, 3)]       0         \n_________________________________________________________________\ntime_distributed (TimeDistri (None, 20, 63)            0         \n_________________________________________________________________\ntime_distributed_1 (TimeDist (None, 20, 63)            0         \n_________________________________________________________________\ntime_distributed_2 (TimeDist (None, 20, 64)            4096      \n_________________________________________________________________\ntime_distributed_3 (TimeDist (None, 20, 64)            0         \n_________________________________________________________________\ntime_distributed_4 (TimeDist (None, 20, 64)            4160      \n_________________________________________________________________\ntime_distributed_5 (TimeDist (None, 20, 64)            0         \n_________________________________________________________________\ntime_distributed_6 (TimeDist (None, 20, 64)            4160      \n_________________________________________________________________\ntime_distributed_7 (TimeDist (None, 20, 64)            0         \n_________________________________________________________________\ngru (GRU)                    (None, 64)                24960     \n_________________________________________________________________\ndense_3 (Dense)              (None, 16)                1040      \n_________________________________________________________________\ndropout_4 (Dropout)          (None, 16)                0         \n_________________________________________________________________\ndense_4 (Dense)              (None, 16)                272       \n_________________________________________________________________\nOutput (Dense)               (None, 10)                170       \n=================================================================\nTotal params: 38,858\nTrainable params: 38,858\nNon-trainable params: 0\n_________________________________________________________________\n"
     ]
    }
   ],
   "source": [
    "inputs = layers.Input(shape=input_shape)\n",
    "x = inputs\n",
    "x = layers.TimeDistributed(layers.Flatten())(x)\n",
    "x = layers.TimeDistributed(layers.Dropout(0.5))(x)\n",
    "x = layers.TimeDistributed(layers.Dense(64, activation='relu'))(x)\n",
    "x = layers.TimeDistributed(layers.Dropout(0.5))(x)\n",
    "x = layers.TimeDistributed(layers.Dense(64, activation='relu'))(x)\n",
    "x = layers.TimeDistributed(layers.Dropout(0.3))(x)\n",
    "x = layers.TimeDistributed(layers.Dense(64, activation='relu'))(x)\n",
    "x = layers.TimeDistributed(layers.Dropout(0.2))(x)\n",
    "x = layers.GRU(64)(x)\n",
    "x = layers.Dense(16, activation='relu')(x)\n",
    "x = layers.Dropout(0.3)(x)\n",
    "x = layers.Dense(16, activation='relu')(x)\n",
    "output = layers.Dense(classes, activation='softmax',name='Output')(x)\n",
    "model = keras.models.Model(inputs, output)\n",
    "model.compile(optimizer='adam',\n",
    "              loss=tf.keras.losses.CategoricalCrossentropy(),\n",
    "              metrics=['accuracy'])\n",
    "model.summary()"
   ]
  },
  {
   "cell_type": "code",
   "execution_count": 4,
   "metadata": {},
   "outputs": [
    {
     "output_type": "stream",
     "name": "stdout",
     "text": [
      "Epoch 1/30\n",
      "54/54 [==============================] - 9s 8ms/step - loss: 2.2234 - accuracy: 0.1297\n",
      "Epoch 2/30\n",
      "54/54 [==============================] - 0s 8ms/step - loss: 1.7858 - accuracy: 0.4116\n",
      "Epoch 3/30\n",
      "54/54 [==============================] - 0s 8ms/step - loss: 1.3045 - accuracy: 0.5159\n",
      "Epoch 4/30\n",
      "54/54 [==============================] - 0s 8ms/step - loss: 0.9899 - accuracy: 0.6018\n",
      "Epoch 5/30\n",
      "54/54 [==============================] - 0s 8ms/step - loss: 0.8373 - accuracy: 0.6810\n",
      "Epoch 6/30\n",
      "54/54 [==============================] - 0s 9ms/step - loss: 0.6124 - accuracy: 0.7667\n",
      "Epoch 7/30\n",
      "54/54 [==============================] - 0s 8ms/step - loss: 0.5294 - accuracy: 0.7920\n",
      "Epoch 8/30\n",
      "54/54 [==============================] - 0s 8ms/step - loss: 0.4948 - accuracy: 0.8128\n",
      "Epoch 9/30\n",
      "54/54 [==============================] - 0s 8ms/step - loss: 0.4513 - accuracy: 0.8294\n",
      "Epoch 10/30\n",
      "54/54 [==============================] - 0s 8ms/step - loss: 0.3946 - accuracy: 0.8484\n",
      "Epoch 11/30\n",
      "54/54 [==============================] - 0s 7ms/step - loss: 0.4263 - accuracy: 0.8481\n",
      "Epoch 12/30\n",
      "54/54 [==============================] - 0s 8ms/step - loss: 0.3460 - accuracy: 0.8728\n",
      "Epoch 13/30\n",
      "54/54 [==============================] - 0s 9ms/step - loss: 0.3042 - accuracy: 0.8985\n",
      "Epoch 14/30\n",
      "54/54 [==============================] - 0s 8ms/step - loss: 0.3190 - accuracy: 0.8938\n",
      "Epoch 15/30\n",
      "54/54 [==============================] - 0s 8ms/step - loss: 0.2987 - accuracy: 0.9073\n",
      "Epoch 16/30\n",
      "54/54 [==============================] - 0s 8ms/step - loss: 0.2789 - accuracy: 0.9115\n",
      "Epoch 17/30\n",
      "54/54 [==============================] - 0s 8ms/step - loss: 0.2281 - accuracy: 0.9219\n",
      "Epoch 18/30\n",
      "54/54 [==============================] - 0s 8ms/step - loss: 0.2440 - accuracy: 0.9246\n",
      "Epoch 19/30\n",
      "54/54 [==============================] - 0s 8ms/step - loss: 0.1947 - accuracy: 0.9421\n",
      "Epoch 20/30\n",
      "54/54 [==============================] - 0s 8ms/step - loss: 0.1793 - accuracy: 0.9464\n",
      "Epoch 21/30\n",
      "54/54 [==============================] - 0s 8ms/step - loss: 0.1785 - accuracy: 0.9466\n",
      "Epoch 22/30\n",
      "54/54 [==============================] - 0s 8ms/step - loss: 0.1920 - accuracy: 0.9424\n",
      "Epoch 23/30\n",
      "54/54 [==============================] - 0s 8ms/step - loss: 0.1692 - accuracy: 0.9456\n",
      "Epoch 24/30\n",
      "54/54 [==============================] - 0s 7ms/step - loss: 0.1500 - accuracy: 0.9501\n",
      "Epoch 25/30\n",
      "54/54 [==============================] - 0s 8ms/step - loss: 0.1382 - accuracy: 0.9598\n",
      "Epoch 26/30\n",
      "54/54 [==============================] - 0s 8ms/step - loss: 0.1700 - accuracy: 0.9506\n",
      "Epoch 27/30\n",
      "54/54 [==============================] - 0s 8ms/step - loss: 0.1675 - accuracy: 0.9539\n",
      "Epoch 28/30\n",
      "54/54 [==============================] - 0s 8ms/step - loss: 0.1605 - accuracy: 0.9508\n",
      "Epoch 29/30\n",
      "54/54 [==============================] - 0s 8ms/step - loss: 0.1484 - accuracy: 0.9572\n",
      "Epoch 30/30\n",
      "54/54 [==============================] - 0s 8ms/step - loss: 0.1124 - accuracy: 0.9656\n"
     ]
    },
    {
     "output_type": "execute_result",
     "data": {
      "text/plain": [
       "<tensorflow.python.keras.callbacks.History at 0x22a0ae97ca0>"
      ]
     },
     "metadata": {},
     "execution_count": 4
    }
   ],
   "source": [
    "model.fit(trainGen,epochs=epochs)"
   ]
  },
  {
   "cell_type": "code",
   "execution_count": 5,
   "metadata": {},
   "outputs": [
    {
     "output_type": "stream",
     "name": "stderr",
     "text": [
      "WARNING:absl:Found untraced functions such as gru_cell_layer_call_fn, gru_cell_layer_call_and_return_conditional_losses, gru_cell_layer_call_fn, gru_cell_layer_call_and_return_conditional_losses, gru_cell_layer_call_and_return_conditional_losses while saving (showing 5 of 5). These functions will not be directly callable after loading.\n",
      "WARNING:absl:Found untraced functions such as gru_cell_layer_call_fn, gru_cell_layer_call_and_return_conditional_losses, gru_cell_layer_call_fn, gru_cell_layer_call_and_return_conditional_losses, gru_cell_layer_call_and_return_conditional_losses while saving (showing 5 of 5). These functions will not be directly callable after loading.\n",
      "INFO:tensorflow:Assets written to: C:\\Users\\17ami\\AppData\\Local\\Temp\\tmpxnghnlhf\\assets\n",
      "INFO:tensorflow:Assets written to: C:\\Users\\17ami\\AppData\\Local\\Temp\\tmpxnghnlhf\\assets\n"
     ]
    }
   ],
   "source": [
    "converter = tf.lite.TFLiteConverter.from_keras_model(model)\n",
    "converter.optimizations = [tf.lite.Optimize.DEFAULT]\n",
    "tfliteModel = converter.convert()\n",
    "modelPath = \"saved_models/MODEL-{}.tflite\".format(datetime.datetime.now().strftime(\"%Y-%m-%d-%H-%M-%S\"))\n",
    "with open(modelPath, 'wb') as f:\n",
    "  f.write(tfliteModel)"
   ]
  },
  {
   "cell_type": "code",
   "execution_count": null,
   "metadata": {},
   "outputs": [],
   "source": []
  }
 ]
}