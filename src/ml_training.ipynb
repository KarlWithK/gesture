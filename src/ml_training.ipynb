{
 "metadata": {
  "language_info": {
   "codemirror_mode": {
    "name": "ipython",
    "version": 3
   },
   "file_extension": ".py",
   "mimetype": "text/x-python",
   "name": "python",
   "nbconvert_exporter": "python",
   "pygments_lexer": "ipython3",
   "version": "3.8.8"
  },
  "orig_nbformat": 2,
  "kernelspec": {
   "name": "python388jvsc74a57bd02db524e06e9f5f4ffedc911c917cb75e12dbc923643829bf417064a77eb14d37",
   "display_name": "Python 3.8.8 64-bit"
  }
 },
 "nbformat": 4,
 "nbformat_minor": 2,
 "cells": [
  {
   "cell_type": "code",
   "execution_count": 1,
   "metadata": {},
   "outputs": [],
   "source": [
    "import tensorflow as tf\n",
    "physicalDevices = tf.config.list_physical_devices('GPU') \n",
    "if physicalDevices:\n",
    "    tf.config.experimental.set_memory_growth(physicalDevices[0], True)  \n",
    "from tensorflow import keras\n",
    "from tensorflow.keras import layers\n",
    "from data_preprocessor import DataGenerator\n",
    "from gestures import GESTURES\n",
    "\n",
    "\n",
    "import datetime"
   ]
  },
  {
   "cell_type": "code",
   "execution_count": 2,
   "metadata": {},
   "outputs": [],
   "source": [
    "batch_size=64\n",
    "epochs=50\n",
    "input_shape = (20,21,3)\n",
    "classes = len(GESTURES)\n",
    "trainGen = DataGenerator('gesture_dataset.h5')"
   ]
  },
  {
   "cell_type": "code",
   "execution_count": 3,
   "metadata": {},
   "outputs": [
    {
     "output_type": "stream",
     "name": "stdout",
     "text": [
      "Model: \"model\"\n_________________________________________________________________\nLayer (type)                 Output Shape              Param #   \n=================================================================\ninput_1 (InputLayer)         [(None, 20, 21, 3)]       0         \n_________________________________________________________________\ntime_distributed (TimeDistri (None, 20, 63)            0         \n_________________________________________________________________\ntime_distributed_1 (TimeDist (None, 20, 63)            0         \n_________________________________________________________________\ntime_distributed_2 (TimeDist (None, 20, 64)            4096      \n_________________________________________________________________\ntime_distributed_3 (TimeDist (None, 20, 64)            0         \n_________________________________________________________________\ntime_distributed_4 (TimeDist (None, 20, 64)            4160      \n_________________________________________________________________\ntime_distributed_5 (TimeDist (None, 20, 64)            0         \n_________________________________________________________________\ntime_distributed_6 (TimeDist (None, 20, 64)            4160      \n_________________________________________________________________\ntime_distributed_7 (TimeDist (None, 20, 64)            0         \n_________________________________________________________________\ngru (GRU)                    (None, 64)                24960     \n_________________________________________________________________\nOutput (Dense)               (None, 8)                 520       \n=================================================================\nTotal params: 37,896\nTrainable params: 37,896\nNon-trainable params: 0\n_________________________________________________________________\n"
     ]
    }
   ],
   "source": [
    "inputs = layers.Input(shape=input_shape)\n",
    "x = inputs\n",
    "x = layers.TimeDistributed(layers.Flatten())(x)\n",
    "x = layers.TimeDistributed(layers.Dropout(0.5))(x)\n",
    "x = layers.TimeDistributed(layers.Dense(64, activation='relu'))(x)\n",
    "x = layers.TimeDistributed(layers.Dropout(0.5))(x)\n",
    "x = layers.TimeDistributed(layers.Dense(64, activation='relu'))(x)\n",
    "x = layers.TimeDistributed(layers.Dropout(0.3))(x)\n",
    "x = layers.TimeDistributed(layers.Dense(64, activation='relu'))(x)\n",
    "x = layers.TimeDistributed(layers.Dropout(0.2))(x)\n",
    "x = layers.GRU(64)(x)\n",
    "output = layers.Dense(classes, activation='softmax',name='Output')(x)\n",
    "model = keras.models.Model(inputs, output)\n",
    "model.compile(optimizer='adam',\n",
    "              loss=tf.keras.losses.CategoricalCrossentropy(),\n",
    "              metrics=['accuracy'])\n",
    "model.summary()"
   ]
  },
  {
   "cell_type": "code",
   "execution_count": 4,
   "metadata": {},
   "outputs": [
    {
     "output_type": "stream",
     "name": "stdout",
     "text": [
      "Epoch 1/50\n",
      "90/90 [==============================] - 18s 6ms/step - loss: 1.7400 - accuracy: 0.3228\n",
      "Epoch 2/50\n",
      "90/90 [==============================] - 1s 6ms/step - loss: 0.3795 - accuracy: 0.8837\n",
      "Epoch 3/50\n",
      "90/90 [==============================] - 1s 7ms/step - loss: 0.1064 - accuracy: 0.9681\n",
      "Epoch 4/50\n",
      "90/90 [==============================] - 1s 6ms/step - loss: 0.0770 - accuracy: 0.9826\n",
      "Epoch 5/50\n",
      "90/90 [==============================] - 1s 6ms/step - loss: 0.0433 - accuracy: 0.9885\n",
      "Epoch 6/50\n",
      "90/90 [==============================] - 1s 6ms/step - loss: 0.0390 - accuracy: 0.9906\n",
      "Epoch 7/50\n",
      "90/90 [==============================] - 1s 6ms/step - loss: 0.0355 - accuracy: 0.9944\n",
      "Epoch 8/50\n",
      "90/90 [==============================] - 1s 6ms/step - loss: 0.0211 - accuracy: 0.9966\n",
      "Epoch 9/50\n",
      "90/90 [==============================] - 1s 6ms/step - loss: 0.0197 - accuracy: 0.9974\n",
      "Epoch 10/50\n",
      "90/90 [==============================] - 1s 6ms/step - loss: 0.0349 - accuracy: 0.9944\n",
      "Epoch 11/50\n",
      "90/90 [==============================] - 1s 6ms/step - loss: 0.0225 - accuracy: 0.9965\n",
      "Epoch 12/50\n",
      "90/90 [==============================] - 1s 7ms/step - loss: 0.0190 - accuracy: 0.9975\n",
      "Epoch 13/50\n",
      "90/90 [==============================] - 1s 6ms/step - loss: 0.0217 - accuracy: 0.9963\n",
      "Epoch 14/50\n",
      "90/90 [==============================] - 1s 6ms/step - loss: 0.0322 - accuracy: 0.9933\n",
      "Epoch 15/50\n",
      "90/90 [==============================] - 1s 6ms/step - loss: 0.0149 - accuracy: 0.9977\n",
      "Epoch 16/50\n",
      "90/90 [==============================] - 1s 6ms/step - loss: 0.0192 - accuracy: 0.9969\n",
      "Epoch 17/50\n",
      "90/90 [==============================] - 1s 6ms/step - loss: 0.0206 - accuracy: 0.9966\n",
      "Epoch 18/50\n",
      "90/90 [==============================] - 1s 6ms/step - loss: 0.0191 - accuracy: 0.9967\n",
      "Epoch 19/50\n",
      "90/90 [==============================] - 1s 6ms/step - loss: 0.0086 - accuracy: 0.9989\n",
      "Epoch 20/50\n",
      "90/90 [==============================] - 1s 7ms/step - loss: 0.0174 - accuracy: 0.9963\n",
      "Epoch 21/50\n",
      "90/90 [==============================] - 1s 6ms/step - loss: 0.0157 - accuracy: 0.9971\n",
      "Epoch 22/50\n",
      "90/90 [==============================] - 1s 6ms/step - loss: 0.0102 - accuracy: 0.9980\n",
      "Epoch 23/50\n",
      "90/90 [==============================] - 1s 6ms/step - loss: 0.0167 - accuracy: 0.9959\n",
      "Epoch 24/50\n",
      "90/90 [==============================] - 1s 6ms/step - loss: 0.0134 - accuracy: 0.9962\n",
      "Epoch 25/50\n",
      "90/90 [==============================] - 1s 6ms/step - loss: 0.0081 - accuracy: 0.9980\n",
      "Epoch 26/50\n",
      "90/90 [==============================] - 1s 6ms/step - loss: 0.0139 - accuracy: 0.9954\n",
      "Epoch 27/50\n",
      "90/90 [==============================] - 1s 6ms/step - loss: 0.0085 - accuracy: 0.9980\n",
      "Epoch 28/50\n",
      "90/90 [==============================] - 1s 6ms/step - loss: 0.0156 - accuracy: 0.9951\n",
      "Epoch 29/50\n",
      "90/90 [==============================] - 1s 7ms/step - loss: 0.0227 - accuracy: 0.9936\n",
      "Epoch 30/50\n",
      "90/90 [==============================] - 1s 6ms/step - loss: 0.0114 - accuracy: 0.9968\n",
      "Epoch 31/50\n",
      "90/90 [==============================] - 1s 6ms/step - loss: 0.0102 - accuracy: 0.9975\n",
      "Epoch 32/50\n",
      "90/90 [==============================] - 1s 6ms/step - loss: 0.0044 - accuracy: 0.9991\n",
      "Epoch 33/50\n",
      "90/90 [==============================] - 1s 6ms/step - loss: 0.0084 - accuracy: 0.9967\n",
      "Epoch 34/50\n",
      "90/90 [==============================] - 1s 6ms/step - loss: 0.0089 - accuracy: 0.9972\n",
      "Epoch 35/50\n",
      "90/90 [==============================] - 1s 6ms/step - loss: 0.0079 - accuracy: 0.9980\n",
      "Epoch 36/50\n",
      "90/90 [==============================] - 1s 6ms/step - loss: 0.0122 - accuracy: 0.9965\n",
      "Epoch 37/50\n",
      "90/90 [==============================] - 1s 7ms/step - loss: 0.0069 - accuracy: 0.9974\n",
      "Epoch 38/50\n",
      "90/90 [==============================] - 1s 6ms/step - loss: 0.0072 - accuracy: 0.9972\n",
      "Epoch 39/50\n",
      "90/90 [==============================] - 1s 6ms/step - loss: 0.0092 - accuracy: 0.9976\n",
      "Epoch 40/50\n",
      "90/90 [==============================] - 1s 6ms/step - loss: 0.0059 - accuracy: 0.9986\n",
      "Epoch 41/50\n",
      "90/90 [==============================] - 1s 6ms/step - loss: 0.0045 - accuracy: 0.9991\n",
      "Epoch 42/50\n",
      "90/90 [==============================] - 1s 6ms/step - loss: 0.0056 - accuracy: 0.9977\n",
      "Epoch 43/50\n",
      "90/90 [==============================] - 1s 7ms/step - loss: 0.0041 - accuracy: 0.9991\n",
      "Epoch 44/50\n",
      "90/90 [==============================] - 1s 6ms/step - loss: 0.0072 - accuracy: 0.9972\n",
      "Epoch 45/50\n",
      "90/90 [==============================] - 1s 7ms/step - loss: 0.0053 - accuracy: 0.9965\n",
      "Epoch 46/50\n",
      "90/90 [==============================] - 1s 6ms/step - loss: 0.0049 - accuracy: 0.9983\n",
      "Epoch 47/50\n",
      "90/90 [==============================] - 1s 6ms/step - loss: 0.0155 - accuracy: 0.9942\n",
      "Epoch 48/50\n",
      "90/90 [==============================] - 1s 7ms/step - loss: 0.0113 - accuracy: 0.9980\n",
      "Epoch 49/50\n",
      "90/90 [==============================] - 1s 7ms/step - loss: 0.0053 - accuracy: 0.9984\n",
      "Epoch 50/50\n",
      "90/90 [==============================] - 1s 7ms/step - loss: 0.0090 - accuracy: 0.9966\n"
     ]
    },
    {
     "output_type": "execute_result",
     "data": {
      "text/plain": [
       "<tensorflow.python.keras.callbacks.History at 0x28a83019c70>"
      ]
     },
     "metadata": {},
     "execution_count": 4
    }
   ],
   "source": [
    "model.fit(trainGen,epochs=epochs)"
   ]
  },
  {
   "cell_type": "code",
   "execution_count": 5,
   "metadata": {},
   "outputs": [
    {
     "output_type": "stream",
     "name": "stderr",
     "text": [
      "WARNING:absl:Found untraced functions such as gru_cell_layer_call_and_return_conditional_losses, gru_cell_layer_call_fn, gru_cell_layer_call_fn, gru_cell_layer_call_and_return_conditional_losses, gru_cell_layer_call_and_return_conditional_losses while saving (showing 5 of 5). These functions will not be directly callable after loading.\n",
      "WARNING:absl:Found untraced functions such as gru_cell_layer_call_and_return_conditional_losses, gru_cell_layer_call_fn, gru_cell_layer_call_fn, gru_cell_layer_call_and_return_conditional_losses, gru_cell_layer_call_and_return_conditional_losses while saving (showing 5 of 5). These functions will not be directly callable after loading.\n",
      "INFO:tensorflow:Assets written to: C:\\Users\\17ami\\AppData\\Local\\Temp\\tmptou5mtq5\\assets\n",
      "INFO:tensorflow:Assets written to: C:\\Users\\17ami\\AppData\\Local\\Temp\\tmptou5mtq5\\assets\n"
     ]
    }
   ],
   "source": [
    "converter = tf.lite.TFLiteConverter.from_keras_model(model)\n",
    "converter.optimizations = [tf.lite.Optimize.DEFAULT]\n",
    "tfliteModel = converter.convert()\n",
    "modelPath = \"saved_models/MODEL-{}.tflite\".format(datetime.datetime.now().strftime(\"%Y-%m-%d-%H-%M-%S\"))\n",
    "with open(modelPath, 'wb') as f:\n",
    "  f.write(tfliteModel)"
   ]
  },
  {
   "cell_type": "code",
   "execution_count": null,
   "metadata": {},
   "outputs": [],
   "source": []
  }
 ]
}