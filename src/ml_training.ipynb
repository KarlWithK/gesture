{
 "metadata": {
  "language_info": {
   "codemirror_mode": {
    "name": "ipython",
    "version": 3
   },
   "file_extension": ".py",
   "mimetype": "text/x-python",
   "name": "python",
   "nbconvert_exporter": "python",
   "pygments_lexer": "ipython3",
   "version": "3.8.8"
  },
  "orig_nbformat": 2,
  "kernelspec": {
   "name": "python388jvsc74a57bd02db524e06e9f5f4ffedc911c917cb75e12dbc923643829bf417064a77eb14d37",
   "display_name": "Python 3.8.8 64-bit"
  }
 },
 "nbformat": 4,
 "nbformat_minor": 2,
 "cells": [
  {
   "cell_type": "code",
   "execution_count": 1,
   "metadata": {},
   "outputs": [],
   "source": [
    "import tensorflow as tf\n",
    "physicalDevices = tf.config.list_physical_devices('GPU') \n",
    "if physicalDevices:\n",
    "    tf.config.experimental.set_memory_growth(physicalDevices[0], True)  \n",
    "from tensorflow import keras\n",
    "from tensorflow.keras import layers\n",
    "from data_preprocessor import DataGenerator, GESTURES\n",
    "\n",
    "import datetime"
   ]
  },
  {
   "cell_type": "code",
   "execution_count": 2,
   "metadata": {},
   "outputs": [],
   "source": [
    "batch_size=64\n",
    "epochs=30\n",
    "input_shape = (20,21,3)\n",
    "classes = len(GESTURES)\n",
    "trainGen = DataGenerator('gesture_dataset.h5')"
   ]
  },
  {
   "cell_type": "code",
   "execution_count": 3,
   "metadata": {},
   "outputs": [
    {
     "output_type": "stream",
     "name": "stdout",
     "text": [
      "Model: \"model\"\n_________________________________________________________________\nLayer (type)                 Output Shape              Param #   \n=================================================================\ninput_1 (InputLayer)         [(None, 20, 21, 3)]       0         \n_________________________________________________________________\ntime_distributed (TimeDistri (None, 20, 63)            0         \n_________________________________________________________________\ntime_distributed_1 (TimeDist (None, 20, 63)            0         \n_________________________________________________________________\ntime_distributed_2 (TimeDist (None, 20, 64)            4096      \n_________________________________________________________________\ntime_distributed_3 (TimeDist (None, 20, 64)            0         \n_________________________________________________________________\ntime_distributed_4 (TimeDist (None, 20, 64)            4160      \n_________________________________________________________________\ntime_distributed_5 (TimeDist (None, 20, 64)            0         \n_________________________________________________________________\ntime_distributed_6 (TimeDist (None, 20, 64)            4160      \n_________________________________________________________________\ntime_distributed_7 (TimeDist (None, 20, 64)            0         \n_________________________________________________________________\ngru (GRU)                    (None, 64)                24960     \n_________________________________________________________________\nOutput (Dense)               (None, 7)                 455       \n=================================================================\nTotal params: 37,831\nTrainable params: 37,831\nNon-trainable params: 0\n_________________________________________________________________\n"
     ]
    }
   ],
   "source": [
    "inputs = layers.Input(shape=input_shape)\n",
    "x = inputs\n",
    "x = layers.TimeDistributed(layers.Flatten())(x)\n",
    "x = layers.TimeDistributed(layers.Dropout(0.5))(x)\n",
    "x = layers.TimeDistributed(layers.Dense(64, activation='relu'))(x)\n",
    "x = layers.TimeDistributed(layers.Dropout(0.5))(x)\n",
    "x = layers.TimeDistributed(layers.Dense(64, activation='relu'))(x)\n",
    "x = layers.TimeDistributed(layers.Dropout(0.3))(x)\n",
    "x = layers.TimeDistributed(layers.Dense(64, activation='relu'))(x)\n",
    "x = layers.TimeDistributed(layers.Dropout(0.2))(x)\n",
    "x = layers.GRU(64)(x)\n",
    "output = layers.Dense(classes, activation='softmax',name='Output')(x)\n",
    "model = keras.models.Model(inputs, output)\n",
    "model.compile(optimizer='adam',\n",
    "              loss=tf.keras.losses.CategoricalCrossentropy(),\n",
    "              metrics=['accuracy'])\n",
    "model.summary()"
   ]
  },
  {
   "cell_type": "code",
   "execution_count": 4,
   "metadata": {},
   "outputs": [
    {
     "output_type": "stream",
     "name": "stderr",
     "text": [
      "C:\\Python38\\lib\\site-packages\\tensorflow\\python\\keras\\engine\\training.py:1844: UserWarning: `Model.fit_generator` is deprecated and will be removed in a future version. Please use `Model.fit`, which supports generators.\n",
      "  warnings.warn('`Model.fit_generator` is deprecated and '\n",
      "Epoch 1/30\n",
      "72/72 [==============================] - 9s 6ms/step - loss: 1.6717 - accuracy: 0.3673\n",
      "Epoch 2/30\n",
      "72/72 [==============================] - 0s 6ms/step - loss: 0.6031 - accuracy: 0.7461\n",
      "Epoch 3/30\n",
      "72/72 [==============================] - 0s 6ms/step - loss: 0.3810 - accuracy: 0.8500\n",
      "Epoch 4/30\n",
      "72/72 [==============================] - 0s 6ms/step - loss: 0.2007 - accuracy: 0.9397\n",
      "Epoch 5/30\n",
      "72/72 [==============================] - 0s 6ms/step - loss: 0.1462 - accuracy: 0.9577\n",
      "Epoch 6/30\n",
      "72/72 [==============================] - 0s 6ms/step - loss: 0.1392 - accuracy: 0.9608\n",
      "Epoch 7/30\n",
      "72/72 [==============================] - 0s 6ms/step - loss: 0.0613 - accuracy: 0.9851\n",
      "Epoch 8/30\n",
      "72/72 [==============================] - 0s 6ms/step - loss: 0.0803 - accuracy: 0.9759\n",
      "Epoch 9/30\n",
      "72/72 [==============================] - 0s 7ms/step - loss: 0.0469 - accuracy: 0.9892\n",
      "Epoch 10/30\n",
      "72/72 [==============================] - 0s 6ms/step - loss: 0.0505 - accuracy: 0.9904\n",
      "Epoch 11/30\n",
      "72/72 [==============================] - 0s 6ms/step - loss: 0.0430 - accuracy: 0.9920\n",
      "Epoch 12/30\n",
      "72/72 [==============================] - 0s 6ms/step - loss: 0.0390 - accuracy: 0.9916\n",
      "Epoch 13/30\n",
      "72/72 [==============================] - 0s 6ms/step - loss: 0.0518 - accuracy: 0.9873\n",
      "Epoch 14/30\n",
      "72/72 [==============================] - 0s 6ms/step - loss: 0.0467 - accuracy: 0.9878\n",
      "Epoch 15/30\n",
      "72/72 [==============================] - 0s 6ms/step - loss: 0.0505 - accuracy: 0.9895\n",
      "Epoch 16/30\n",
      "72/72 [==============================] - 0s 6ms/step - loss: 0.0340 - accuracy: 0.9958\n",
      "Epoch 17/30\n",
      "72/72 [==============================] - 0s 6ms/step - loss: 0.0329 - accuracy: 0.9929\n",
      "Epoch 18/30\n",
      "72/72 [==============================] - 0s 6ms/step - loss: 0.0300 - accuracy: 0.9931\n",
      "Epoch 19/30\n",
      "72/72 [==============================] - 0s 6ms/step - loss: 0.0286 - accuracy: 0.9942\n",
      "Epoch 20/30\n",
      "72/72 [==============================] - 0s 6ms/step - loss: 0.0307 - accuracy: 0.9946\n",
      "Epoch 21/30\n",
      "72/72 [==============================] - 0s 6ms/step - loss: 0.0258 - accuracy: 0.9942\n",
      "Epoch 22/30\n",
      "72/72 [==============================] - 0s 6ms/step - loss: 0.0235 - accuracy: 0.9945\n",
      "Epoch 23/30\n",
      "72/72 [==============================] - 0s 6ms/step - loss: 0.0228 - accuracy: 0.9934\n",
      "Epoch 24/30\n",
      "72/72 [==============================] - 0s 6ms/step - loss: 0.0323 - accuracy: 0.9942\n",
      "Epoch 25/30\n",
      "72/72 [==============================] - 0s 6ms/step - loss: 0.0190 - accuracy: 0.9966\n",
      "Epoch 26/30\n",
      "72/72 [==============================] - 0s 6ms/step - loss: 0.0205 - accuracy: 0.9958\n",
      "Epoch 27/30\n",
      "72/72 [==============================] - 0s 6ms/step - loss: 0.0224 - accuracy: 0.9955\n",
      "Epoch 28/30\n",
      "72/72 [==============================] - 0s 6ms/step - loss: 0.0164 - accuracy: 0.9951\n",
      "Epoch 29/30\n",
      "72/72 [==============================] - 0s 6ms/step - loss: 0.0149 - accuracy: 0.9955\n",
      "Epoch 30/30\n",
      "72/72 [==============================] - 0s 6ms/step - loss: 0.0140 - accuracy: 0.9958\n"
     ]
    },
    {
     "output_type": "execute_result",
     "data": {
      "text/plain": [
       "<tensorflow.python.keras.callbacks.History at 0x1b00226aa00>"
      ]
     },
     "metadata": {},
     "execution_count": 4
    }
   ],
   "source": [
    "model.fit_generator(generator=trainGen,epochs=epochs)"
   ]
  },
  {
   "cell_type": "code",
   "execution_count": 5,
   "metadata": {},
   "outputs": [
    {
     "output_type": "stream",
     "name": "stderr",
     "text": [
      "WARNING:absl:Found untraced functions such as gru_cell_layer_call_fn, gru_cell_layer_call_and_return_conditional_losses, gru_cell_layer_call_fn, gru_cell_layer_call_and_return_conditional_losses, gru_cell_layer_call_and_return_conditional_losses while saving (showing 5 of 5). These functions will not be directly callable after loading.\n",
      "WARNING:absl:Found untraced functions such as gru_cell_layer_call_fn, gru_cell_layer_call_and_return_conditional_losses, gru_cell_layer_call_fn, gru_cell_layer_call_and_return_conditional_losses, gru_cell_layer_call_and_return_conditional_losses while saving (showing 5 of 5). These functions will not be directly callable after loading.\n",
      "INFO:tensorflow:Assets written to: saved_models/MODEL-2021-05-25-13-18-09\\assets\n",
      "INFO:tensorflow:Assets written to: saved_models/MODEL-2021-05-25-13-18-09\\assets\n"
     ]
    }
   ],
   "source": [
    "model.save(\"saved_models/MODEL-{}\".format(datetime.datetime.now().strftime(\"%Y-%m-%d-%H-%M-%S\")), save_format = \"tf\")"
   ]
  },
  {
   "cell_type": "code",
   "execution_count": null,
   "metadata": {},
   "outputs": [],
   "source": []
  }
 ]
}