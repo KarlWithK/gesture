{
 "metadata": {
  "language_info": {
   "codemirror_mode": {
    "name": "ipython",
    "version": 3
   },
   "file_extension": ".py",
   "mimetype": "text/x-python",
   "name": "python",
   "nbconvert_exporter": "python",
   "pygments_lexer": "ipython3",
   "version": "3.8.8"
  },
  "orig_nbformat": 2,
  "kernelspec": {
   "name": "python388jvsc74a57bd02db524e06e9f5f4ffedc911c917cb75e12dbc923643829bf417064a77eb14d37",
   "display_name": "Python 3.8.8 64-bit"
  }
 },
 "nbformat": 4,
 "nbformat_minor": 2,
 "cells": [
  {
   "cell_type": "code",
   "execution_count": 3,
   "metadata": {},
   "outputs": [],
   "source": [
    "import h5py\n",
    "from os.path import exists\n",
    "import numpy as np\n",
    "import tensorflow as tf\n",
    "physical_devices = tf.config.list_physical_devices('GPU') \n",
    "tf.config.experimental.set_memory_growth(physical_devices[0], True)\n",
    "from keras.models import load_model"
   ]
  },
  {
   "cell_type": "code",
   "execution_count": 14,
   "metadata": {},
   "outputs": [],
   "source": [
    "filename = 'dynamic_gestures2_test.hdf5'\n",
    "if not exists(filename):\n",
    "    f = h5py.File(filename, 'x')\n",
    "else:\n",
    "    f = h5py.File(filename, 'r+')\n",
    "model = load_model('test_model_2')\n",
    "model_labels = [\"swipe_right\",\"swipe_left\", \"swipe_up\", \"swipe_down\"]"
   ]
  },
  {
   "cell_type": "code",
   "execution_count": 15,
   "metadata": {},
   "outputs": [
    {
     "output_type": "stream",
     "name": "stdout",
     "text": [
      "swipe_down 11\n",
      "1/1 [==============================] - 1s 539ms/step - loss: 6.3474 - accuracy: 0.0000e+00\n",
      "swipe_left 7\n",
      "1/1 [==============================] - 0s 18ms/step - loss: 7.0536 - accuracy: 0.0000e+00\n",
      "swipe_right 5\n",
      "1/1 [==============================] - 0s 18ms/step - loss: 0.2493 - accuracy: 0.8000\n",
      "swipe_up 11\n",
      "1/1 [==============================] - 0s 20ms/step - loss: 8.4936 - accuracy: 0.0000e+00\n"
     ]
    }
   ],
   "source": [
    "for _,gesture in enumerate(list(f['/'])):\n",
    "    x = np.array(list(f['/'+gesture]))\n",
    "    y= np.array([model_labels.index(gesture)]*len(x))\n",
    "    y=tf.keras.utils.to_categorical(y,len(model_labels))\n",
    "    print(gesture,len(x))\n",
    "    model.evaluate(x=x,y=y)"
   ]
  },
  {
   "cell_type": "code",
   "execution_count": null,
   "metadata": {},
   "outputs": [],
   "source": []
  }
 ]
}